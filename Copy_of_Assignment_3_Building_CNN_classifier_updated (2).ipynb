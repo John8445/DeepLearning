{
  "nbformat": 4,
  "nbformat_minor": 0,
  "metadata": {
    "colab": {
      "provenance": []
    },
    "kernelspec": {
      "name": "python3",
      "display_name": "Python 3"
    },
    "language_info": {
      "name": "python"
    },
    "accelerator": "GPU"
  },
  "cells": [
    {
      "cell_type": "markdown",
      "source": [
        "# In this tutorial we will build basic CNN for image classification and then perform few test to understand overall working on CNN.\n",
        "Author :- Dr. Ankur Mali -- (Intro to DL - USF)\n",
        "* We will define our model and learn how to use keras module to build custom layers\n",
        "* We will also design our own training loop, that is identical to model.fit in Keras.\n",
        "* The aim of this excercise is to teach, how to use exisiting Tensorflow API to construct our own module and integrate it with tf.keras API."
      ],
      "metadata": {
        "id": "iEL0LqOvNctE"
      }
    },
    {
      "cell_type": "code",
      "execution_count": 142,
      "metadata": {
        "id": "SK3DMbzThNBc"
      },
      "outputs": [],
      "source": [
        "import tensorflow as tf\n",
        "import numpy as np\n",
        "import matplotlib.pyplot as plt\n",
        "from tensorflow.keras.preprocessing.image import ImageDataGenerator\n",
        "from sklearn.metrics import confusion_matrix\n",
        "import seaborn as sns\n",
        "from typing import List, Optional, Sequence\n",
        "\n",
        "np.random.seed(10000-2000)"
      ]
    },
    {
      "cell_type": "markdown",
      "source": [
        "#Things to do\n",
        "* Remember to Normalize your data and create validation split from train set.\n",
        "* Learn about tf.data, tf.slices and also tf.records"
      ],
      "metadata": {
        "id": "j3wnZ5tvOTCV"
      }
    },
    {
      "cell_type": "code",
      "source": [
        "(x_train, y_train), (x_test, y_test) = tf.keras.datasets.cifar10.load_data()\n",
        "\n",
        "# Add Gaussian noise to the test samples\n",
        "# noise_stddev = 0.05\n",
        "# x_test = x_test + np.random.normal(loc=0, scale=noise_stddev, size=x_test.shape)\n",
        "# x_test = np.clip(x_test, 0, 255)\n",
        "\n",
        "x_val = x_train[45000:50000]\n",
        "y_val = y_train[45000:50000]\n",
        "x_train = x_train[0:45000]\n",
        "y_train = y_train[0:45000]\n",
        "x_train = x_train.astype(np.float32).reshape(-1,32,32,3) / 255.0\n",
        "x_val = x_val.astype(np.float32).reshape(-1,32,32,3) / 255.0\n",
        "x_test = x_test.astype(np.float32).reshape(-1,32,32,3) / 255.0\n",
        "y_train = tf.one_hot(y_train, depth=10)\n",
        "y_val = tf.one_hot(y_val, depth=10)\n",
        "y_test = tf.one_hot(y_test, depth=10)\n",
        "\n",
        "#Add the data augmentation technique\n",
        "#datagen = ImageDataGenerator(horizontal_flip=True)\n",
        "\n",
        "# datagen = ImageDataGenerator(\n",
        "#     horizontal_flip=True,\n",
        "#     vertical_flip=True,  # Add vertical flip\n",
        "#     rotation_range=30,  # Add rotation (in degrees, e.g., 20 degrees)\n",
        "#     #zoom_range=0.2,\n",
        "#     #brightness_range=[0.8, 1.2],  # Adjust brightness by 20%\n",
        "# )\n",
        "\n",
        "# datagen.fit(x_train)\n",
        "\n",
        "print(x_train.shape)\n",
        "print(x_test.shape)\n",
        "print(x_val.shape)\n",
        "train_dataset = tf.data.Dataset.from_tensor_slices((x_train, y_train))\n",
        "train_dataset = train_dataset.shuffle(buffer_size=1024).batch(128)\n",
        "train_dataset_full = train_dataset.shuffle(buffer_size=1024).batch(len(train_dataset))\n",
        "val_dataset = tf.data.Dataset.from_tensor_slices((x_val, y_val))\n",
        "val_dataset = val_dataset.batch(128)\n",
        "test_dataset = tf.data.Dataset.from_tensor_slices((x_test, y_test))\n",
        "test_dataset = test_dataset.batch(128)\n",
        "print(len(train_dataset))\n",
        "print(len(test_dataset))"
      ],
      "metadata": {
        "colab": {
          "base_uri": "https://localhost:8080/"
        },
        "id": "WWo3ho3whTWU",
        "outputId": "fb0090f7-ba07-4952-b41a-d9b2acaeb0bc"
      },
      "execution_count": 143,
      "outputs": [
        {
          "output_type": "stream",
          "name": "stdout",
          "text": [
            "(45000, 32, 32, 3)\n",
            "(10000, 32, 32, 3)\n",
            "(5000, 32, 32, 3)\n",
            "352\n",
            "79\n"
          ]
        }
      ]
    },
    {
      "cell_type": "markdown",
      "source": [
        "# Create your custom CNN class\n",
        "* Convolution layers has 4D weights of size (h,w,input_feature, output_feature), where h=height of your kernel and w = width of our kernel. If you add batches then it is 5D.\n",
        "* Now your model will convolve across your input feature map with kernel and create output feature map, that is then passed to next layer.\n",
        "* As we have learned in our prior class, to initialize your weights, we use tf.Variable(weight_init(size)), tf.keras.layers.Conv2D will do this for you. Play with the function and see how it works for your problem.\n",
        "* Few important concepts, learn to save your model after every k epochs and start re-training from last checkpoint. This is very useful, and you don't need to retrain your model from scratch.\n"
      ],
      "metadata": {
        "id": "Rs9r9QDvO48Y"
      }
    },
    {
      "cell_type": "code",
      "source": [
        "class ImageRecognitionCNN(tf.keras.Model):\n",
        "    \n",
        "    def __init__(self, num_classes, device='cpu:0', checkpoint_directory=None, checkpoint_prefix = None):\n",
        "        ''' Define the parameterized layers used during forward-pass, the device\n",
        "            where you would like to run the computation (GPU, TPU, CPU) on and the checkpoint\n",
        "            directory.\n",
        "            \n",
        "            Args:\n",
        "                num_classes: the number of labels in the network.\n",
        "                device: string, 'cpu:n' or 'gpu:n' (n can vary). Default, 'cpu:0'.\n",
        "                checkpoint_directory: the directory where you would like to save or \n",
        "                                      restore a model.\n",
        "        ''' \n",
        "        super(ImageRecognitionCNN, self).__init__()\n",
        "        \n",
        "        # Initialize layers\n",
        "        self.conv1 = tf.keras.layers.Conv2D(256, 3, padding='same', activation=None)\n",
        "        self.conv2 = tf.keras.layers.Conv2D(256, 3,padding='same', activation=None)\n",
        "        self.pool1 = tf.keras.layers.MaxPool2D()\n",
        "        self.conv3 = tf.keras.layers.Conv2D(256, 3, padding='same', activation=None) #128\n",
        "        self.conv4 = tf.keras.layers.Conv2D(256, 3, padding='same', activation=None)#64\n",
        "        self.conv8 = tf.keras.layers.Conv2D(num_classes, 1, padding='same', activation=None)\n",
        "        \n",
        "        # Add an additional convolutional layer\n",
        "        self.conv5 = tf.keras.layers.Conv2D(256, 3, padding='same', activation=None)#128\n",
        "\n",
        "        # Add the AveragePooling2D layer\n",
        "        self.avg_pool = tf.keras.layers.AveragePooling2D(pool_size=(1, 1))\n",
        "\n",
        "        # Batch normalization layers\n",
        "        self.batch_norm1 = tf.keras.layers.BatchNormalization()\n",
        "        self.batch_norm2 = tf.keras.layers.BatchNormalization()\n",
        "        self.batch_norm3 = tf.keras.layers.BatchNormalization()\n",
        "        self.batch_norm4 = tf.keras.layers.BatchNormalization()\n",
        "        self.batch_norm5 = tf.keras.layers.BatchNormalization()\n",
        "\n",
        "\n",
        "        # Define the device \n",
        "        self.device = device\n",
        "        \n",
        "        # Define the checkpoint directory\n",
        "        self.checkpoint_directory = checkpoint_directory\n",
        "        self.checkpoint_prefix = checkpoint_prefix\n",
        "        self.acc = tf.keras.metrics.Accuracy()\n",
        "\n",
        "    #@tf.function\n",
        "    def predict(self, images, training):\n",
        "        \"\"\" Predicts the probability of each class, based on the input sample.\n",
        "            \n",
        "            Args:\n",
        "                images: 4D tensor. Either an image or a batch of images.\n",
        "                training: Boolean. Either the network is predicting in\n",
        "                          training mode or not.\n",
        "        \"\"\"\n",
        "        x = self.conv1(images)\n",
        "        x = self.batch_norm1(x)\n",
        "        x = tf.nn.relu(x)\n",
        "        x = self.pool1(x)\n",
        "        x = self.conv2(x)\n",
        "        x = self.batch_norm2(x)\n",
        "        x = tf.nn.relu(x)\n",
        "        x = self.pool1(x)\n",
        "        x = self.conv3(x)\n",
        "        x = self.batch_norm3(x)\n",
        "        x = tf.nn.relu(x)\n",
        "        x = self.pool1(x)\n",
        "        x = self.conv4(x)\n",
        "        x = self.batch_norm4(x)\n",
        "        x = tf.nn.relu(x)\n",
        "        x = self.pool1(x)\n",
        "       \n",
        "\n",
        "        # Apply the additional convolutional layer\n",
        "        x = self.conv5(x)\n",
        "        x = self.batch_norm5(x)\n",
        "        x = tf.nn.relu(x)\n",
        "        x = self.pool1(x)\n",
        "\n",
        "        x = self.conv8(x)\n",
        "        x = self.avg_pool(x)\n",
        "        x = tf.reshape(x, (-1, 1, 10))\n",
        "        return x\n",
        "\n",
        "\n",
        "    @tf.function\n",
        "    def loss_fn(self, images, target, training):\n",
        "        \"\"\" Defines the loss function used during \n",
        "            training.         \n",
        "        \"\"\"\n",
        "  \n",
        "        preds = self.predict(images, training)\n",
        "        loss = tf.nn.softmax_cross_entropy_with_logits(labels=target, logits=preds)\n",
        "        return loss\n",
        "\n",
        "    @tf.function\n",
        "    def grads_fn(self, images, target, training):\n",
        "        \"\"\" Dynamically computes the gradients of the loss value\n",
        "            with respect to the parameters of the model, in each\n",
        "            forward pass.\n",
        "        \"\"\"\n",
        "        with tf.GradientTape() as tape:\n",
        "            loss = self.loss_fn(images, target, training)\n",
        "        return tape.gradient(loss, self.variables)\n",
        "\n",
        "    \n",
        "    @tf.function\n",
        "    def restore_model(self):\n",
        "        \"\"\" Function to restore trained model.\n",
        "        \"\"\"\n",
        "        with tf.device(self.device):\n",
        "            # Run the model once to initialize variables\n",
        "            dummy_input = tf.constant(tf.zeros((1,48,48,1)))\n",
        "            dummy_pred = self.predict(dummy_input, training=False)\n",
        "            # Restore the variables of the model\n",
        "            saver = tf.compat.v1.train.Saver(self.variables)\n",
        "            saver.restore(tf.train.latest_checkpoint\n",
        "                          (self.checkpoint_directory))\n",
        "    @tf.function\n",
        "    def save_model(self, global_step=0):\n",
        "        \"\"\" Function to save trained model.\n",
        "        \"\"\"\n",
        "        \n",
        "        tf.compat.v1.train.Saver(self.variables).save(save_path=self.checkpoint_directory, \n",
        "                                       global_step=global_step)   \n",
        "        return None\n",
        "    \n",
        "    @tf.function\n",
        "    def compute_accuracy_2(self, images, targets):\n",
        "        \"\"\" Compute the accuracy on the input data.\n",
        "        \"\"\"\n",
        "        with tf.device(self.device):\n",
        "            \n",
        "            # Predict the probability of each class\n",
        "            logits = self.predict(images, training=False)\n",
        "            # Select the class with the highest probability\n",
        "            \n",
        "            logits = tf.nn.softmax(logits)\n",
        "            logits = tf.reshape(logits, [-1, 10])\n",
        "            targets = tf.reshape(targets, [-1,10])\n",
        "            preds = tf.argmax(logits, axis=1)\n",
        "            goal = tf.argmax(targets, axis=1)\n",
        "            self.acc.update_state(goal, preds)\n",
        "            # Compute the accuracy\n",
        "            result = self.acc.result()\n",
        "            #result = self.acc.result().numpy()\n",
        "        return result\n",
        "\n",
        "\n",
        "    def fit_fc(self, training_data, eval_data, optimizer, num_epochs=500, \n",
        "            early_stopping_rounds=10, verbose=10, train_from_scratch=False, ckpoint=None):\n",
        "        \"\"\" Function to train the model, using the selected optimizer and\n",
        "            for the desired number of epochs. You can either train from scratch\n",
        "            or load the latest model trained. Early stopping is used in order to\n",
        "            mitigate the risk of overfitting the network.\n",
        "            \n",
        "            Args:\n",
        "                training_data: the data you would like to train the model on.\n",
        "                                Must be in the tf.data.Dataset format.\n",
        "                eval_data: the data you would like to evaluate the model on.\n",
        "                            Must be in the tf.data.Dataset format.\n",
        "                optimizer: the optimizer used during training.\n",
        "                num_epochs: the maximum number of iterations you would like to \n",
        "                            train the model.\n",
        "                early_stopping_rounds: stop training if the loss on the eval \n",
        "                                       dataset does not decrease after n epochs.\n",
        "                verbose: int. Specify how often to print the loss value of the network.\n",
        "                train_from_scratch: boolean. Whether to initialize variables of the\n",
        "                                    the last trained model or initialize them\n",
        "                                    randomly.\n",
        "        \"\"\" \n",
        "    \n",
        "        if train_from_scratch==False:\n",
        "            self.restore_model()\n",
        "        \n",
        "        # Initialize best loss. This variable will store the lowest loss on the\n",
        "        # eval dataset.\n",
        "        best_loss = 999.99\n",
        "        \n",
        "        # Initialize classes to update the mean loss of train and eval\n",
        "        train_loss = tf.keras.metrics.Mean('train_loss')\n",
        "        eval_loss = tf.keras.metrics.Mean('eval_loss')\n",
        "        acc_train = tf.keras.metrics.Mean('train_acc')\n",
        "        acc_val = tf.keras.metrics.Mean('val_acc')\n",
        "        \n",
        "        # Initialize dictionary to store the loss history\n",
        "        self.history = {}\n",
        "        self.history['train_loss'] = []\n",
        "        self.history['eval_loss'] = []\n",
        "        self.history['train_acc'] = []\n",
        "        self.history['val_acc'] = []\n",
        "        \n",
        "        # Begin training\n",
        "        with tf.device(self.device):\n",
        "            for i in range(num_epochs):\n",
        "                # Training with gradient descent\n",
        "                #training_data_x = training_data.shuffle(buffer_size=1024).batch(128)\n",
        "                for step, (images, target) in enumerate(training_data):\n",
        "                    grads = self.grads_fn(images, target, True)\n",
        "                    optimizer.apply_gradients(zip(grads, self.variables))\n",
        "                    \n",
        "                # Compute the loss on the training data after one epoch\n",
        "                for step, (images, target) in enumerate(training_data):\n",
        "                    loss = self.loss_fn(images, target, False)\n",
        "                    accuracy = self.compute_accuracy_2(images,target)\n",
        "                    acc_train(accuracy)\n",
        "                    train_loss(loss)\n",
        "                self.history['train_loss'].append(train_loss.result())\n",
        "                self.history['train_acc'].append(acc_train.result())\n",
        "                #self.history['train_loss'].append(train_loss.result().numpy())\n",
        "                #self.history['train_acc'].append(acc_train.result().numpy())\n",
        "                # Reset metrics\n",
        "                \n",
        "                \n",
        "                # Compute the loss on the eval data after one epoch\n",
        "                for step, (images, target) in enumerate(eval_data):\n",
        "                    loss = self.loss_fn(images, target, False)\n",
        "                    accuracy = self.compute_accuracy_2(images,target)\n",
        "                    acc_val(accuracy)\n",
        "                    eval_loss(loss)\n",
        "                self.history['eval_loss'].append(eval_loss.result())\n",
        "                self.history['val_acc'].append(acc_val.result())\n",
        "                # self.history['eval_loss'].append(eval_loss.result().numpy())\n",
        "                # self.history['val_acc'].append(acc_val.result().numpy())\n",
        "                # Reset metrics\n",
        "                # print(train_loss.result())\n",
        "                # print('Train loss at epoch %d: ' %(i+1), train_loss.result())\n",
        "                # print('Train Acc at epoch %d: ' %(i+1), acc_train.result())\n",
        "                    \n",
        "                # print('Eval loss at epoch %d: ' %(i+1), eval_loss.result())\n",
        "                # print('Eval Acc at epoch %d: ' %(i+1), acc_val.result())\n",
        "                \n",
        "                train_loss.reset_states()\n",
        "                acc_train.reset_states()\n",
        "                eval_loss.reset_states()\n",
        "                acc_val.reset_states()\n",
        "                #Print train and eval losses\n",
        "                if (i==0) | ((i+1)%verbose==0):\n",
        "                    print('Train loss at epoch %d: ' %(i+1), self.history['train_loss'][-1])\n",
        "                    print('Train Acc at epoch %d: ' %(i+1), self.history['train_acc'][-1])\n",
        "                    \n",
        "                    print('Eval loss at epoch %d: ' %(i+1), self.history['eval_loss'][-1])\n",
        "                    print('Eval Acc at epoch %d: ' %(i+1), self.history['val_acc'][-1])\n",
        "                    print('Model Saved')\n",
        "                    ckpoint.save(file_prefix=self.checkpoint_prefix)\n",
        "                    #self.save_model()\n",
        "\n",
        "                # Check for early stopping\n",
        "                count = 0 \n",
        "                if self.history['eval_loss'][-1]<best_loss:\n",
        "                    best_loss = self.history['eval_loss'][-1]\n",
        "                    count = early_stopping_rounds\n",
        "                else:\n",
        "                    count -= 1\n",
        "                if count==0:\n",
        "                    break\n",
        "\n",
        "\n",
        "    def predict_fc(self, test_data):\n",
        "      # Initialize classes to update the mean loss of train and eval\n",
        "        test_loss = tf.keras.metrics.Mean('train_loss')\n",
        "        acc_test = tf.keras.metrics.Mean('test_acc')\n",
        "        \n",
        "        \n",
        "        # Begin training\n",
        "        with tf.device(self.device):\n",
        "          for step, (images, target) in enumerate(test_data):\n",
        "              loss = self.loss_fn(images, target, False)\n",
        "              accuracy = self.compute_accuracy_2(images,target)\n",
        "              acc_test(accuracy)\n",
        "              test_loss(loss)\n",
        "        print(\"test_accuracy %d\", acc_test.result())\n",
        "        print(\"test_loss %d\", test_loss.result())\n",
        "            \n",
        "                \n",
        "                \n",
        "\n"
      ],
      "metadata": {
        "id": "KGjSk_lMhb7V"
      },
      "execution_count": 144,
      "outputs": []
    },
    {
      "cell_type": "code",
      "source": [
        "import os\n",
        "# Specify the path where you want to save/restore the trained variables.\n",
        "#sample_data\n",
        "checkpoint_directory = '/content/models_checkpoints/'\n",
        "#checkpoint_directory = \"/tmp/training_checkpoints\"\n",
        "checkpoint_prefix = os.path.join(checkpoint_directory, \"ckpt\")\n",
        "# Use the GPU if available.\n",
        "device = 'gpu:0'\n",
        "\n",
        "# Define optimizer.\n",
        "optimizer = tf.compat.v1.train.AdamOptimizer(learning_rate=1e-3)\n",
        "\n",
        "# Instantiate model. This doesn't initialize the variables yet.\n",
        "model = ImageRecognitionCNN(num_classes=10, device=device, \n",
        "                              checkpoint_directory=checkpoint_directory, checkpoint_prefix = checkpoint_prefix)\n",
        "\n",
        "\n",
        "### This example is modified to work with Tensorflow > 2.6\n",
        "\n",
        "## Create checkpoint to save your model\n",
        "checkpoint = tf.train.Checkpoint(optimizer=optimizer, model=model)\n",
        "## Now store the initial checkpoint - at random initialization\n",
        "checkpoint.save(file_prefix=checkpoint_prefix)"
      ],
      "metadata": {
        "id": "4a-iuiHIypry",
        "colab": {
          "base_uri": "https://localhost:8080/",
          "height": 36
        },
        "outputId": "e411e8e4-1398-463d-8a94-73d0a71d84e9"
      },
      "execution_count": 145,
      "outputs": [
        {
          "output_type": "execute_result",
          "data": {
            "text/plain": [
              "'/content/models_checkpoints/ckpt-1'"
            ],
            "application/vnd.google.colaboratory.intrinsic+json": {
              "type": "string"
            }
          },
          "metadata": {},
          "execution_count": 145
        }
      ]
    },
    {
      "cell_type": "code",
      "source": [
        "# Train model\n",
        "# Pass the saver object to save model each epoch -- You can change the rule/scheme for saving the model\n",
        "model.fit_fc(train_dataset, val_dataset, optimizer, num_epochs=20, \n",
        "          early_stopping_rounds=2, verbose=2, train_from_scratch=True, ckpoint = checkpoint)"
      ],
      "metadata": {
        "id": "exUkL_OBytBw",
        "colab": {
          "base_uri": "https://localhost:8080/"
        },
        "outputId": "223ed2c8-590a-47c1-bdbe-eb171e6e7fd2"
      },
      "execution_count": 146,
      "outputs": [
        {
          "output_type": "stream",
          "name": "stdout",
          "text": [
            "Train loss at epoch 1:  tf.Tensor(1.3010024, shape=(), dtype=float32)\n",
            "Train Acc at epoch 1:  tf.Tensor(0.5285584, shape=(), dtype=float32)\n",
            "Eval loss at epoch 1:  tf.Tensor(1.3268251, shape=(), dtype=float32)\n",
            "Eval Acc at epoch 1:  tf.Tensor(0.53361404, shape=(), dtype=float32)\n",
            "Model Saved\n",
            "Train loss at epoch 2:  tf.Tensor(0.8955981, shape=(), dtype=float32)\n",
            "Train Acc at epoch 2:  tf.Tensor(0.5731321, shape=(), dtype=float32)\n",
            "Eval loss at epoch 2:  tf.Tensor(0.9411485, shape=(), dtype=float32)\n",
            "Eval Acc at epoch 2:  tf.Tensor(0.6047636, shape=(), dtype=float32)\n",
            "Model Saved\n",
            "Train loss at epoch 4:  tf.Tensor(0.5991747, shape=(), dtype=float32)\n",
            "Train Acc at epoch 4:  tf.Tensor(0.66978544, shape=(), dtype=float32)\n",
            "Eval loss at epoch 4:  tf.Tensor(0.7850724, shape=(), dtype=float32)\n",
            "Eval Acc at epoch 4:  tf.Tensor(0.6859572, shape=(), dtype=float32)\n",
            "Model Saved\n",
            "Train loss at epoch 6:  tf.Tensor(0.34536904, shape=(), dtype=float32)\n",
            "Train Acc at epoch 6:  tf.Tensor(0.7240921, shape=(), dtype=float32)\n",
            "Eval loss at epoch 6:  tf.Tensor(0.77405113, shape=(), dtype=float32)\n",
            "Eval Acc at epoch 6:  tf.Tensor(0.7376631, shape=(), dtype=float32)\n",
            "Model Saved\n",
            "Train loss at epoch 8:  tf.Tensor(0.295761, shape=(), dtype=float32)\n",
            "Train Acc at epoch 8:  tf.Tensor(0.7610413, shape=(), dtype=float32)\n",
            "Eval loss at epoch 8:  tf.Tensor(0.99329764, shape=(), dtype=float32)\n",
            "Eval Acc at epoch 8:  tf.Tensor(0.76933753, shape=(), dtype=float32)\n",
            "Model Saved\n",
            "Train loss at epoch 10:  tf.Tensor(0.2362224, shape=(), dtype=float32)\n",
            "Train Acc at epoch 10:  tf.Tensor(0.78937393, shape=(), dtype=float32)\n",
            "Eval loss at epoch 10:  tf.Tensor(1.1995951, shape=(), dtype=float32)\n",
            "Eval Acc at epoch 10:  tf.Tensor(0.7954424, shape=(), dtype=float32)\n",
            "Model Saved\n",
            "Train loss at epoch 12:  tf.Tensor(0.20803073, shape=(), dtype=float32)\n",
            "Train Acc at epoch 12:  tf.Tensor(0.81174624, shape=(), dtype=float32)\n",
            "Eval loss at epoch 12:  tf.Tensor(1.3504932, shape=(), dtype=float32)\n",
            "Eval Acc at epoch 12:  tf.Tensor(0.8162427, shape=(), dtype=float32)\n",
            "Model Saved\n",
            "Train loss at epoch 14:  tf.Tensor(0.13541284, shape=(), dtype=float32)\n",
            "Train Acc at epoch 14:  tf.Tensor(0.82753277, shape=(), dtype=float32)\n",
            "Eval loss at epoch 14:  tf.Tensor(1.4594805, shape=(), dtype=float32)\n",
            "Eval Acc at epoch 14:  tf.Tensor(0.83155316, shape=(), dtype=float32)\n",
            "Model Saved\n",
            "Train loss at epoch 16:  tf.Tensor(0.12772353, shape=(), dtype=float32)\n",
            "Train Acc at epoch 16:  tf.Tensor(0.8415987, shape=(), dtype=float32)\n",
            "Eval loss at epoch 16:  tf.Tensor(1.4518995, shape=(), dtype=float32)\n",
            "Eval Acc at epoch 16:  tf.Tensor(0.8447288, shape=(), dtype=float32)\n",
            "Model Saved\n",
            "Train loss at epoch 18:  tf.Tensor(0.14965674, shape=(), dtype=float32)\n",
            "Train Acc at epoch 18:  tf.Tensor(0.8526602, shape=(), dtype=float32)\n",
            "Eval loss at epoch 18:  tf.Tensor(1.7211841, shape=(), dtype=float32)\n",
            "Eval Acc at epoch 18:  tf.Tensor(0.8549606, shape=(), dtype=float32)\n",
            "Model Saved\n",
            "Train loss at epoch 20:  tf.Tensor(0.08529267, shape=(), dtype=float32)\n",
            "Train Acc at epoch 20:  tf.Tensor(0.8619755, shape=(), dtype=float32)\n",
            "Eval loss at epoch 20:  tf.Tensor(1.659942, shape=(), dtype=float32)\n",
            "Eval Acc at epoch 20:  tf.Tensor(0.8642454, shape=(), dtype=float32)\n",
            "Model Saved\n"
          ]
        }
      ]
    },
    {
      "cell_type": "code",
      "source": [
        "model.predict_fc(test_dataset)"
      ],
      "metadata": {
        "id": "0Z13NUdHlqeU",
        "colab": {
          "base_uri": "https://localhost:8080/"
        },
        "outputId": "6bbe919c-afff-407e-cca7-dc9961ff1c0c"
      },
      "execution_count": 147,
      "outputs": [
        {
          "output_type": "stream",
          "name": "stdout",
          "text": [
            "test_accuracy %d tf.Tensor(0.8633191, shape=(), dtype=float32)\n",
            "test_loss %d tf.Tensor(1.7783381, shape=(), dtype=float32)\n"
          ]
        }
      ]
    },
    {
      "cell_type": "code",
      "source": [
        "# Now let's try to restore the model from latest checkpoint\n",
        "# In this case load latest checkpoint -- 7\n",
        "checkpoint_prefix_restore = os.path.join(checkpoint_directory, \"ckpt-7\")\n",
        "checkpoint.restore(checkpoint_prefix_restore)"
      ],
      "metadata": {
        "id": "JQMGyBPnavyK",
        "colab": {
          "base_uri": "https://localhost:8080/"
        },
        "outputId": "40d4399e-c92e-4e3d-e66e-070b87744709"
      },
      "execution_count": 148,
      "outputs": [
        {
          "output_type": "execute_result",
          "data": {
            "text/plain": [
              "<tensorflow.python.checkpoint.checkpoint.CheckpointLoadStatus at 0x7fed47c48340>"
            ]
          },
          "metadata": {},
          "execution_count": 148
        }
      ]
    },
    {
      "cell_type": "code",
      "source": [
        "## Load the model and make prediction\n",
        "c_model = checkpoint.model\n",
        "c_model.predict_fc(test_dataset)"
      ],
      "metadata": {
        "id": "-wRI4vAreD70",
        "colab": {
          "base_uri": "https://localhost:8080/"
        },
        "outputId": "cd50d289-4e4d-4acd-a208-7328c13e4318"
      },
      "execution_count": 149,
      "outputs": [
        {
          "output_type": "stream",
          "name": "stdout",
          "text": [
            "test_accuracy %d tf.Tensor(0.794475, shape=(), dtype=float32)\n",
            "test_loss %d tf.Tensor(1.250192, shape=(), dtype=float32)\n"
          ]
        }
      ]
    },
    {
      "cell_type": "code",
      "source": [
        "class_names = ['airplane', 'automobile', 'bird', 'cat', 'deer', 'dog', 'frog', 'horse', 'ship', 'truck']\n",
        "\n",
        "def plot_confusion_matrix(\n",
        "    true: np.ndarray,\n",
        "    pred: np.ndarray,\n",
        "    labels: Optional[List[str]] = None,\n",
        "    normalize: str = \"true\",\n",
        "    figsize: Sequence[int] = (5, 4),\n",
        ") -> np.ndarray:\n",
        "    \"\"\"Plot confusion matrix\n",
        "    Args:\n",
        "        true (numpy.array): true label\n",
        "        pred (numpy.array): predicted label\n",
        "        labels (List[str]), default=None] list of label names\n",
        "        normalize (str, default=\"true): whether to normalize scores, chosen from \"true\" or \"false\"\n",
        "    Returns:\n",
        "        fig: figure of confusion matrix\n",
        "    \"\"\"\n",
        "    cm = confusion_matrix(true, pred, normalize=normalize)\n",
        "    fig = plt.figure(figsize=figsize)\n",
        "    sns.heatmap(\n",
        "        cm,\n",
        "        annot=True,\n",
        "        cmap=\"Reds\",\n",
        "        square=True,\n",
        "        vmin=0,\n",
        "        vmax=1.0,\n",
        "        xticklabels=labels,\n",
        "        yticklabels=labels,\n",
        "    )\n",
        "    plt.xlabel(\"Predicted label\")\n",
        "    plt.ylabel(\"True label\")\n",
        "    plt.title(\"Normalized confusion matrix\")\n",
        "\n",
        "    plt.close()\n",
        "    return fig\n",
        "     "
      ],
      "metadata": {
        "id": "Aw5vipwVRpmB"
      },
      "execution_count": 150,
      "outputs": []
    },
    {
      "cell_type": "code",
      "source": [
        "y_true = []\n",
        "y_pred = []\n",
        "\n",
        "for img, target in test_dataset:\n",
        "  preds = model.predict(img, training = False)\n",
        "  preds = tf.nn.softmax(preds)\n",
        "  y_pred.extend(np.argmax(preds.numpy().reshape(-1, 10), axis=1))\n",
        "\n",
        "  y_true.extend(np.argmax(target.numpy().reshape(-1, 10), axis=1))\n",
        "\n",
        "y_true = np.array(y_true)\n",
        "y_pred = np.array(y_pred)\n",
        "plot_confusion_matrix(y_true, y_pred, labels=class_names, figsize=(8, 6))"
      ],
      "metadata": {
        "colab": {
          "base_uri": "https://localhost:8080/",
          "height": 450
        },
        "id": "ZUvNZJexUFu4",
        "outputId": "7d431727-d0cd-44c6-9a88-ea4c3b3af1ea"
      },
      "execution_count": 151,
      "outputs": [
        {
          "output_type": "execute_result",
          "data": {
            "text/plain": [
              "<Figure size 576x432 with 2 Axes>"
            ],
            "image/png": "[encoded data removed]"
          },
          "metadata": {},
          "execution_count": 151
        }
      ]
    },
    {
      "cell_type": "markdown",
      "source": [
        "## Now let's define various tasks\n",
        "\n",
        "Given we have provided entire training scripts and code that shows how to run a Convolution neural network on cifar-10 datasets. For this assignment the class will work on 3 tasks,\n",
        "\n",
        "## Very important - If you start late, you won't be able to finish this assignment. \n",
        "\n",
        "## Task-1\n",
        "1. Find the best hyper-parameter for above model --- You have to add minimum one additional conv layer to above model -- you can reduce the filter_size and input features. But not the number of layers\n",
        "2. It is very important you Keep track of your validation loss to select the best model -- You will train your model for minimum 15 epochs.\n",
        "3. There is flexibility to change your network hyperparameters, such as optimizer, learning rate, activation function, filter size, batch size, etc\n",
        "4. Show minimum 3 settings or comparsion.\n",
        "5. Once you have the best hyper-parameter, then run your model for 5 trials, report mean accuracy and standard error (both metrics are calculated over your accuracy).\n",
        "6. Whenever in doubt, simply ask.\n",
        "\n",
        "## Task-2 - Data Augmentation\n",
        "1. Rotate Image at an arbitrary angle (15,45, 60 and so on)\n",
        "2. Crop Image from the center and resize\n",
        "3. Flip Image from left to right (Create a mirror image)\n",
        "4. Choose any two augmentation approach and report your performance. \n",
        "5. Remember you will optimize your model, try to beat accuracy reported on task-1. Once you find the best settings run your experiments for 5 trials, report mean accuracy and standard error (both metrics are calculated over your accuracy)\n",
        "6. You will only augment your train set, test and validation set are untouched. \n",
        "\n",
        "## Task-3- Adversial Samples\n",
        "1. Now you will add small gaussian noise to your test samples(one can use standard deviation = 0.05, while using random_normal)\n",
        "2. Take model from task-1, get the performance on this adversial samples. For this One must report confusion matrix on original test samples and adversial samples. (The code is already provided in Github or else one can use sklearn function). Remember your confusion matrix is the product of 5 trials, in other words you will pass mean values or mean prediction to your function\n",
        "3. Repeat above steps for task-2\n",
        "4. Report your findings."
      ],
      "metadata": {
        "id": "go8mOBRNnIPl"
      }
    },
    {
      "cell_type": "markdown",
      "source": [
        "## Rubric\n",
        "\n",
        "## Task-1 (3 points)\n",
        "1. Only one setting is reported - (-2 point)\n",
        "2. No modification to original code and only reported default settings - (0 or -3 points)\n",
        "3. Mean and standard error miscalculations/error - (1.2 points)\n",
        "4. Result with only one trial - (-2 points)\n",
        "\n",
        "## Task-2 (4 points)\n",
        "1. No data augmentation - (- 4 points)\n",
        "2. Only one data augmentation - (- 2 points)\n",
        "3. Data augmentation on test and validation set - (0 or -4 points)\n",
        "4. Mean and standard error miscalculations/error - (1.2 points)\n",
        "5. Result with only one trial - (-2.8 points)\n",
        "\n",
        "## Task-3 (3 points)\n",
        "1. gaussian noise added on test and validation set - (0 or -3 points)\n",
        "2. Result with only one trial - (-2 points)\n",
        "3. Performance reported on only one task (1 or 2) - (-1.5 points)\n",
        "4. No confusion matrix - (- 1.2 points)\n",
        "5. Mean and standard error miscalculations/error - (1.2 points)"
      ],
      "metadata": {
        "id": "6KPxdyZOq_IG"
      }
    }
  ]
}