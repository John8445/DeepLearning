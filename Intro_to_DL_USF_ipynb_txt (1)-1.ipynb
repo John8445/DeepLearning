{
  "cells": [
    {
      "cell_type": "markdown",
      "metadata": {
        "id": "view-in-github"
      },
      "source": [
        "<a href=\"https://colab.research.google.com/github/AnkurMali/IST597_SP21/blob/main/IST597_SP21_RNN.ipynb\" target=\"_parent\"><img src=\"https://colab.research.google.com/assets/colab-badge.svg\" alt=\"Open In Colab\"/></a>"
      ]
    },
    {
      "cell_type": "markdown",
      "metadata": {
        "id": "-C4rdQxKP7UT"
      },
      "source": [
        "# IST597 :Recurrent Neural Networks (RNNs) for sequence classification\n",
        "# Assignment 1000\n",
        "# Author:- Dr. Ankur Mali\n",
        "# Material designed for undergrad course on Deep Learning at USF\n",
        "\n",
        "We will be  building a RNN for sentiment analysis on IMDB movie reviews ( [stanford_imdb](https://https://ai.stanford.edu/~amaas/data/sentiment/)). \n"
      ]
    },
    {
      "cell_type": "markdown",
      "source": [
        "# All necessary/required files are provided in the github folder. Download them and use it accordingly.\n",
        "## Start late and you won't be able to complete this assignment\n",
        "\n",
        "\n",
        "1. In this assignment you will learn about RNNs and how they can be used to perform sequence classification on IMDB dataset.\n",
        "2. I have created the code to train LSTM and RNN, similar to assignment 3 you will to some analysis on this assignment\n",
        "\n",
        "<font color='red'>Top 10 students, that complete this assignment and get highest accuracy on both RNN and LSTM will get some extra credits. To get extra credits, your assignments should be complete and bug free. </font>\n",
        "\n",
        "Now let's look at few tasks\n",
        "\n",
        "1. Both RNN and LSTM currently overfit the dataset. Your job is to avoid this overfitting\n",
        "\n",
        "# <font color='blue'>Task-1 - Regularization </font>\n",
        "\n",
        "1. Implement L1 or L2 regularization to avoid overfitting -- You can use inbuild function to achieve this\n",
        "2. Use dropout to avoid overfitting -- Remember you don't use dropout during validation and testing phase, thus one needs to switch it off during evaluation phase\n",
        "3. Compared L1/L2 with dropout. Explain which one is better and why\n",
        "4. Create predict function, similar to assignment-3 -- adapt it from the fit function.\n",
        "\n",
        "# <font color='blue'>Things to report </font>\n",
        "1. Perform hyper-parameter optimization. You will have 4 models, RNN + L1/L2, RNN + Dropout, LSTM + L1/L2, LSTM + Dropout -- minimum 4 settings per model\n",
        "2. Once you find your best model, train your model for minimum - 20 epochs\n",
        "3. Finally repeat this for min 5 trials and report average accuracy and standard error.\n",
        "4. For all 4 models, report confusion matrix -- Confusion matrix is calculated over 5 trials, thus mean over 5 trials\n",
        "5. Beside this, you will also report F1, precision and recall -- All these 3 metrics are measured over 5 trials, hence should be mean across trials.\n",
        "\n",
        "# <font color='red'> Rubric </font>\n",
        "1. If only one regularization is used (<font color='red'>-4 points</font>)\n",
        "2. Confusion matrix only reported for 1 trial (<font color='red'>-2 points</font>)\n",
        "3. Confusion matrix not implemented and reported (<font color='red'>-3 points</font>)\n",
        "4. F1,precisio and recall metrics missing (<font color='red'>-2 points</font>)\n",
        "5. Hyper-parameter optimization table missing (<font color='red'>-3 points</font>)\n",
        "6. No results on LSTM or RNN (<font color='red'>-6 points</font>)\n"
      ],
      "metadata": {
        "id": "kvBIRwF8J1g7"
      }
    },
    {
      "cell_type": "code",
      "execution_count": 1,
      "metadata": {
        "id": "rvcyRuYbP7UV"
      },
      "outputs": [],
      "source": [
        "import tensorflow as tf\n",
        "import pandas as pd\n",
        "import pickle\n",
        "import matplotlib.pyplot as plt\n",
        "from sklearn.metrics import confusion_matrix\n",
        "from sklearn.metrics import confusion_matrix, precision_recall_fscore_support\n",
        "import numpy as np\n",
        "import seaborn as sns\n",
        "from typing import Optional, List, Sequence\n",
        "from sklearn.metrics import accuracy_score\n",
        "\n",
        "%matplotlib inline\n",
        "tf.random.set_seed(10000)"
      ]
    },
    {
      "cell_type": "code",
      "execution_count": 2,
      "metadata": {
        "id": "ur6a2Sw5WJjM",
        "colab": {
          "base_uri": "https://localhost:8080/"
        },
        "outputId": "e54b1325-0094-46dd-b750-c66832e417d5"
      },
      "outputs": [
        {
          "output_type": "stream",
          "name": "stderr",
          "text": [
            "[nltk_data] Downloading package punkt to /root/nltk_data...\n",
            "[nltk_data]   Unzipping tokenizers/punkt.zip.\n"
          ]
        }
      ],
      "source": [
        "import sys\n",
        "import os\n",
        "sys.path.insert(1,'/content/')\n",
        "from data_utils import parse_imdb_sequence"
      ]
    },
    {
      "cell_type": "code",
      "execution_count": 3,
      "metadata": {
        "colab": {
          "base_uri": "https://localhost:8080/",
          "height": 452
        },
        "id": "CMNILJ0PP7UW",
        "outputId": "0695f49d-6183-4d5a-eae9-7d18e447aa21"
      },
      "outputs": [
        {
          "output_type": "display_data",
          "data": {
            "text/plain": [
              "<Figure size 640x480 with 1 Axes>"
            ],
            "image/png": "[encoded data removed]"
          },
          "metadata": {}
        }
      ],
      "source": [
        "length_reviews = pickle.load(open('/content/length_reviews.pkl', 'rb'))\n",
        "pd.DataFrame(length_reviews, columns=['Length reviews']).hist(bins=100, color='blue');\n",
        "plt.grid(False);"
      ]
    },
    {
      "cell_type": "code",
      "source": [
        "full_train_dataset = tf.data.TFRecordDataset('/content/train.tfrecords')\n",
        "full_train_dataset = full_train_dataset.shuffle(buffer_size=1000)\n",
        "DATASET_SIZE = 25000\n",
        "train_size = int(0.9 * DATASET_SIZE)\n",
        "val_size = int(0.1 * DATASET_SIZE)\n",
        "train_dataset = full_train_dataset.take(train_size)\n",
        "val_dataset = full_train_dataset.skip(train_size)"
      ],
      "metadata": {
        "id": "PywOTZBrVbxT"
      },
      "execution_count": 4,
      "outputs": []
    },
    {
      "cell_type": "code",
      "source": [
        "print(train_dataset)\n",
        "print(val_dataset)"
      ],
      "metadata": {
        "colab": {
          "base_uri": "https://localhost:8080/"
        },
        "id": "ry15dvJGZZKe",
        "outputId": "128be892-bf20-494a-ab78-587f025c6c4b"
      },
      "execution_count": 5,
      "outputs": [
        {
          "output_type": "stream",
          "name": "stdout",
          "text": [
            "<_TakeDataset element_spec=TensorSpec(shape=(), dtype=tf.string, name=None)>\n",
            "<_SkipDataset element_spec=TensorSpec(shape=(), dtype=tf.string, name=None)>\n"
          ]
        }
      ]
    },
    {
      "cell_type": "code",
      "execution_count": 6,
      "metadata": {
        "id": "ijVfbU9jP7UY",
        "colab": {
          "base_uri": "https://localhost:8080/"
        },
        "outputId": "a024180d-8852-4565-aaf3-00a357700e6d"
      },
      "outputs": [
        {
          "output_type": "stream",
          "name": "stdout",
          "text": [
            "<_PaddedBatchDataset element_spec=(TensorSpec(shape=(None, None), dtype=tf.int64, name=None), TensorSpec(shape=(None,), dtype=tf.int64, name=None), TensorSpec(shape=(None,), dtype=tf.int64, name=None))>\n"
          ]
        }
      ],
      "source": [
        "train_dataset = train_dataset.map(parse_imdb_sequence).shuffle(buffer_size=10000)\n",
        "train_dataset = train_dataset.padded_batch(512, padded_shapes=([None],[],[]))\n",
        "val_dataset = val_dataset.map(parse_imdb_sequence).shuffle(buffer_size=1000)\n",
        "val_dataset = val_dataset.padded_batch(512, padded_shapes=([None],[],[]))\n",
        "test_dataset = tf.data.TFRecordDataset('/content/test.tfrecords')\n",
        "test_dataset = test_dataset.map(parse_imdb_sequence).shuffle(buffer_size=10000)\n",
        "test_dataset = test_dataset.padded_batch(512, padded_shapes=([None],[],[]))\n",
        "print(test_dataset)"
      ]
    },
    {
      "cell_type": "code",
      "execution_count": 7,
      "metadata": {
        "id": "-0boPqdDP7UY"
      },
      "outputs": [],
      "source": [
        "# Read the word vocabulary\n",
        "word2idx = pickle.load(open('/content/word2idx.pkl', 'rb'))"
      ]
    },
    {
      "cell_type": "markdown",
      "metadata": {
        "id": "7jVOSepgP7UY"
      },
      "source": [
        "## RNN model for sequence classification, compatible with Eager API \n",
        "----\n",
        "In the cell below, you can find the class that I have created for the RNN model. The API is very similar with one I created in the previous tutorial, except that now we track the accuracy of the model instead of the loss.\n",
        "\n",
        "The idea of the network is very simple. We simply take each word in the review, select its corresponding word embedding (initialized randomly in the beginning), and pass it through the RNN cell. We then take the output of the RNN cell at the end of the sequence and pass it through a dense layer (with ReLU activation) to obtain the final predictions. \n",
        "\n",
        "Like usually, the network inherits from tf.keras.Model in order to keep track of all variables and save/restore them easily.\n",
        "\n",
        "![img](tutorials_graphics/rnn_imdb.png)"
      ]
    },
    {
      "cell_type": "code",
      "execution_count": 8,
      "metadata": {
        "id": "iUoWg4BSP7UY"
      },
      "outputs": [],
      "source": [
        "class RNNModel(tf.keras.Model):\n",
        "    def __init__(self, embedding_size=100, cell_size=64, dense_size=128, \n",
        "                 num_classes=2, vocabulary_size=None, rnn_cell='lstm',\n",
        "                 device='cpu:0', checkpoint_directory=None, checkpoint_prefix = None, dropout_rate = 0.0 ):\n",
        "        ''' Define the parameterized layers used during forward-pass, the device\n",
        "            where you would like to run the computation on and the checkpoint\n",
        "            directory. Additionaly, you can also modify the default size of the \n",
        "            network.\n",
        "            \n",
        "            Args:\n",
        "                embedding_size: the size of the word embedding.\n",
        "                cell_size: RNN cell size.\n",
        "                dense_size: the size of the dense layer.\n",
        "                num_classes: the number of labels in the network.\n",
        "                vocabulary_size: the size of the word vocabulary.\n",
        "                rnn_cell: string, either 'lstm' or 'ugrnn'.\n",
        "                device: string, 'cpu:n' or 'gpu:n' (n can vary). Default, 'cpu:0'.\n",
        "                checkpoint_directory: the directory where you would like to save or \n",
        "                                      restore a model.\n",
        "        '''\n",
        "        super(RNNModel, self).__init__()\n",
        "        \n",
        "        # Weights initializer function\n",
        "        w_initializer = tf.compat.v1.keras.initializers.glorot_uniform()\n",
        "    \n",
        "        # Biases initializer function\n",
        "        b_initializer = tf.zeros_initializer()\n",
        "        \n",
        "        self.dropout = dropout_rate\n",
        "\n",
        "        # Initialize weights for word embeddings \n",
        "        self.embeddings = tf.keras.layers.Embedding(vocabulary_size, embedding_size, \n",
        "                                                    embeddings_initializer=w_initializer)\n",
        "        \n",
        "        \n",
        "        # Dense layer initialization\n",
        "        self.dense_layer = tf.keras.layers.Dense(dense_size, activation=tf.nn.relu, \n",
        "                                                 kernel_initializer=w_initializer, \n",
        "                                                 bias_initializer=b_initializer,\n",
        "                                                )\n",
        "        #kernel_regularizer=tf.keras.regularizers.l2(1e-6)\n",
        "        \n",
        "        # Predictions layer initialization\n",
        "        self.pred_layer = tf.keras.layers.Dense(num_classes, activation=None, \n",
        "                                                kernel_initializer=w_initializer, \n",
        "                                                bias_initializer=b_initializer)\n",
        "        \n",
        "        # Basic LSTM cell\n",
        "        if rnn_cell=='lstm':\n",
        "            self.rnn_cell = tf.compat.v1.nn.rnn_cell.BasicLSTMCell(cell_size)\n",
        "        # Else RNN cell\n",
        "        else:\n",
        "            self.rnn_cell = tf.compat.v1.nn.rnn_cell.BasicRNNCell(cell_size)\n",
        "            \n",
        "        # Define the device \n",
        "        self.device = device\n",
        "        \n",
        "        # Define the checkpoint directory\n",
        "        self.checkpoint_directory = checkpoint_directory\n",
        "        self.checkpoint_prefix = checkpoint_prefix\n",
        "        \n",
        "    def predict(self, X, seq_length, is_training):\n",
        "      '''\n",
        "      Predicts the probability of each class, based on the input sample.\n",
        "\n",
        "      Args:\n",
        "          X: 2D tensor of shape (batch_size, time_steps).\n",
        "          seq_length: the length of each sequence in the batch.\n",
        "          is_training: Boolean. Either the network is predicting in\n",
        "                      training mode or not.\n",
        "      '''\n",
        "      \n",
        "      # Get the number of samples within a batch\n",
        "      num_samples = tf.shape(X)[0]\n",
        "\n",
        "      # Initialize LSTM cell state with zeros\n",
        "      state = self.rnn_cell.zero_state(num_samples, dtype=tf.float32)\n",
        "      \n",
        "      # Get the embedding of each word in the sequence\n",
        "      embedded_words = self.embeddings(X)\n",
        "      \n",
        "      # Unstack the embeddings\n",
        "      unstacked_embeddings = tf.unstack(embedded_words, axis=1)\n",
        "      \n",
        "      # Iterate through each timestep and append the predictions\n",
        "      outputs = []\n",
        "      for input_step in unstacked_embeddings:\n",
        "          output, state = self.rnn_cell(input_step, state)\n",
        "          outputs.append(output)\n",
        "          \n",
        "      # Stack outputs to (batch_size, time_steps, cell_size)\n",
        "      outputs = tf.stack(outputs, axis=1)\n",
        "      \n",
        "      # Extract the output of the last time step, of each sample\n",
        "      idxs_last_output = tf.stack([tf.range(num_samples), \n",
        "                                  tf.cast(seq_length-1, tf.int32)], axis=1)\n",
        "      final_output = tf.gather_nd(outputs, idxs_last_output)\n",
        "      \n",
        "      # Add dropout for regularization\n",
        "      #dropped_output = tf.compat.v1.layers.Dropout(final_output, rate=0.3, training=is_training)\n",
        "      dropped_output = tf.compat.v1.layers.Dropout(self.dropout)(final_output, training=is_training)\n",
        "      \n",
        "      # Pass the last cell state through a dense layer (ReLU activation)\n",
        "      dense = self.dense_layer(dropped_output)\n",
        "      \n",
        "      # Compute the unnormalized log probabilities\n",
        "      logits = self.pred_layer(dense)\n",
        "      return logits \n",
        "    @tf.function\n",
        "    def loss_fn(self, X, y, seq_length, is_training):\n",
        "        \"\"\" Defines the loss function used during \n",
        "            training.         \n",
        "        \"\"\"\n",
        "        preds = self.predict(X, seq_length, is_training)\n",
        "        loss = tf.nn.sparse_softmax_cross_entropy_with_logits(labels=y, logits=preds)\n",
        "        return loss\n",
        "\n",
        "    \n",
        "    @tf.function\n",
        "    def grads_fn(self, X, y, seq_length, is_training):\n",
        "        \"\"\" Dynamically computes the gradients of the loss value\n",
        "            with respect to the parameters of the model, in each\n",
        "            forward pass.\n",
        "        \"\"\"\n",
        "        with tf.GradientTape() as tape:\n",
        "            loss = self.loss_fn(X, y, seq_length, is_training)\n",
        "        return tape.gradient(loss, self.variables)\n",
        "\n",
        "    \n",
        "    @tf.function\n",
        "    def restore_model(self):\n",
        "        \"\"\" Function to restore trained model.\n",
        "        \"\"\"\n",
        "        with tf.device(self.device):\n",
        "            # Run the model once to initialize variables\n",
        "            dummy_input = tf.constant(tf.zeros((1,1)))\n",
        "            dummy_length = tf.constant(1, shape=(1,))\n",
        "            dummy_pred = self.predict(dummy_input, dummy_length, False)\n",
        "            # Restore the variables of the model\n",
        "            saver = tf.compat.v1.train.Saver(self.variables)\n",
        "            saver.restore(tf.train.latest_checkpoint\n",
        "                          (self.checkpoint_directory))\n",
        "    @tf.function\n",
        "    def save_model(self, global_step=0):\n",
        "        \"\"\" Function to save trained model.\n",
        "        \"\"\"\n",
        "        tf.compat.v1.train.Saver(self.variables).save(save_path=self.checkpoint_directory, \n",
        "                                       global_step=global_step)   \n",
        "        \n",
        "    def fit(self, training_data, eval_data, optimizer, num_epochs=500, \n",
        "            early_stopping_rounds=10, verbose=10, train_from_scratch=False, ckpoint=None):\n",
        "        \"\"\" Function to train the model, using the selected optimizer and\n",
        "            for the desired number of epochs. You can either train from scratch\n",
        "            or load the latest model trained. Early stopping is used in order to\n",
        "            mitigate the risk of overfitting the network.\n",
        "            \n",
        "            Args:\n",
        "                training_data: the data you would like to train the model on.\n",
        "                                Must be in the tf.data.Dataset format.\n",
        "                eval_data: the data you would like to evaluate the model on.\n",
        "                            Must be in the tf.data.Dataset format.\n",
        "                optimizer: the optimizer used during training.\n",
        "                num_epochs: the maximum number of iterations you would like to \n",
        "                            train the model.\n",
        "                early_stopping_rounds: stop training if the accuracy on the eval \n",
        "                                       dataset does not increase after n epochs.\n",
        "                verbose: int. Specify how often to print the loss value of the network.\n",
        "                train_from_scratch: boolean. Whether to initialize variables of the\n",
        "                                    the last trained model or initialize them\n",
        "                                    randomly.\n",
        "        \"\"\" \n",
        "    \n",
        "        if train_from_scratch==False:\n",
        "            self.restore_model()\n",
        "        \n",
        "        # Initialize best_acc. This variable will store the highest accuracy\n",
        "        # on the eval dataset.\n",
        "        best_acc = 0\n",
        "        \n",
        "        # Initialize classes to update the mean accuracy of train and eval\n",
        "        train_acc = tf.keras.metrics.Accuracy('train_acc')\n",
        "        eval_acc = tf.keras.metrics.Accuracy('eval_acc')\n",
        "        \n",
        "        # Initialize dictionary to store the accuracy history\n",
        "        self.history = {}\n",
        "        self.history['train_acc'] = []\n",
        "        self.history['eval_acc'] = []\n",
        "        \n",
        "        # Begin training\n",
        "        with tf.device(self.device):\n",
        "            for i in range(num_epochs):\n",
        "                # Training with gradient descent\n",
        "                for step, (X, y, seq_length) in enumerate(training_data):\n",
        "                    grads = self.grads_fn(X, y, seq_length, True)\n",
        "                    optimizer.apply_gradients(zip(grads, self.variables))\n",
        "                    \n",
        "                # Check accuracy train dataset\n",
        "                for step, (X, y, seq_length) in enumerate(training_data):\n",
        "                    logits = self.predict(X, seq_length, False)\n",
        "                    logits = tf.nn.softmax(logits)\n",
        "                    preds = tf.argmax(logits, axis=1)\n",
        "                    train_acc(preds, y)\n",
        "                self.history['train_acc'].append(train_acc.result().numpy())\n",
        "                # Reset metrics\n",
        "                train_acc.reset_states()\n",
        "\n",
        "                # Check accuracy eval dataset\n",
        "                for step, (X, y, seq_length) in enumerate(eval_data):\n",
        "                    logits = self.predict(X, seq_length, False)\n",
        "                    logits = tf.nn.softmax(logits)\n",
        "                    preds = tf.argmax(logits, axis=1)\n",
        "                    eval_acc(preds, y)\n",
        "                self.history['eval_acc'].append(eval_acc.result().numpy())\n",
        "                # Reset metrics\n",
        "                eval_acc.reset_states()\n",
        "                \n",
        "                # Print train and eval accuracy\n",
        "                if (i==0) | ((i+1)%verbose==0):\n",
        "                    print('Train accuracy at epoch %d: ' %(i+1), self.history['train_acc'][-1])\n",
        "                    print('Eval accuracy at epoch %d: ' %(i+1), self.history['eval_acc'][-1])\n",
        "                    ckpoint.save(file_prefix=self.checkpoint_prefix)\n",
        "\n",
        "                # Check for early stopping\n",
        "                if self.history['eval_acc'][-1]>best_acc:\n",
        "                    best_acc = self.history['eval_acc'][-1]\n",
        "                    count = early_stopping_rounds\n",
        "                else:\n",
        "                    count -= 1\n",
        "                if count==0:\n",
        "                    break  "
      ]
    },
    {
      "cell_type": "code",
      "source": [
        "def plot_given_confusion_matrix(confusion_matrix: np.ndarray, labels: Optional[List[str]] = None, figsize: Sequence[int] = (5, 4)):\n",
        "    fig = plt.figure(figsize=figsize)\n",
        "    sns.heatmap(\n",
        "        confusion_matrix,\n",
        "        annot=True,\n",
        "        cmap=\"Reds\",\n",
        "        square=True,\n",
        "        fmt=\"d\",\n",
        "        xticklabels=labels,\n",
        "        yticklabels=labels,\n",
        "    )\n",
        "    plt.xlabel(\"Predicted label\")\n",
        "    plt.ylabel(\"True label\")\n",
        "    plt.title(\"Confusion matrix\")   \n",
        "    return fig"
      ],
      "metadata": {
        "id": "IBJVngvkIBO6"
      },
      "execution_count": 9,
      "outputs": []
    },
    {
      "cell_type": "markdown",
      "metadata": {
        "id": "Pq07GFNrP7UZ"
      },
      "source": [
        "## Train model with gradient descent and early stopping\n",
        "----"
      ]
    },
    {
      "cell_type": "markdown",
      "metadata": {
        "id": "VIuGUj5CP7UZ"
      },
      "source": [
        "### Model training with simple RNN cells\n",
        "----"
      ]
    },
    {
      "cell_type": "code",
      "execution_count": 10,
      "metadata": {
        "colab": {
          "base_uri": "https://localhost:8080/",
          "height": 90
        },
        "id": "uqk_DJZ3P7Ua",
        "outputId": "bad04103-2b5d-489c-e60e-32139093e665"
      },
      "outputs": [
        {
          "output_type": "stream",
          "name": "stderr",
          "text": [
            "<ipython-input-8-c6a85015b91a>:53: UserWarning: `tf.nn.rnn_cell.BasicRNNCell` is deprecated and will be removed in a future version. This class is equivalent as `tf.keras.layers.SimpleRNNCell`, and will be replaced by that in Tensorflow 2.0.\n",
            "  self.rnn_cell = tf.compat.v1.nn.rnn_cell.BasicRNNCell(cell_size)\n",
            "WARNING:tensorflow:<keras.layers.rnn.legacy_cells.BasicRNNCell object at 0x7f97fce7b220>: Note that this cell is not optimized for performance.\n"
          ]
        },
        {
          "output_type": "execute_result",
          "data": {
            "text/plain": [
              "'/content/models_checkpoints/ImdbRNN/ckpt-1'"
            ],
            "application/vnd.google.colaboratory.intrinsic+json": {
              "type": "string"
            }
          },
          "metadata": {},
          "execution_count": 10
        }
      ],
      "source": [
        "# Specify the path where you want to save/restore the trained variables.\n",
        "checkpoint_directory = '/content/models_checkpoints/ImdbRNN/'\n",
        "checkpoint_prefix = os.path.join(checkpoint_directory, \"ckpt\")\n",
        "\n",
        "# Use the GPU if available.\n",
        "device = 'gpu:0'\n",
        "\n",
        "# Define optimizer.\n",
        "optimizer = tf.compat.v1.train.AdamOptimizer(learning_rate=1e-4)\n",
        "\n",
        "# Instantiate model. This doesn't initialize the variables yet.\n",
        "rnn_model = RNNModel(vocabulary_size=len(word2idx), rnn_cell='rnn', device=device,\n",
        "                      checkpoint_directory=checkpoint_directory, checkpoint_prefix = checkpoint_prefix)\n",
        "\n",
        "checkpoint = tf.train.Checkpoint(optimizer=optimizer, model=rnn_model)\n",
        "checkpoint.save(file_prefix=checkpoint_prefix)"
      ]
    },
    {
      "cell_type": "code",
      "execution_count": 11,
      "metadata": {
        "id": "IXvPU8_gP7Ua"
      },
      "outputs": [],
      "source": [
        "# Train model\n",
        "#rnn_model.fit(train_dataset, val_dataset, optimizer, num_epochs=20, \n",
        "                #early_stopping_rounds=5, verbose=1, train_from_scratch=True, ckpoint = checkpoint)"
      ]
    },
    {
      "cell_type": "code",
      "source": [
        "def predict_model(model, test_dataset):\n",
        "    # Initialize classes to update the mean loss and accuracy\n",
        "    test_loss = tf.keras.metrics.Mean('test_loss')\n",
        "    test_acc = tf.keras.metrics.Mean('test_acc')\n",
        "\n",
        "    all_preds = []\n",
        "    all_true = []\n",
        "\n",
        "    # Begin testing\n",
        "    with tf.device(model.device):\n",
        "        for step, (X, y, seq_length) in enumerate(test_dataset):\n",
        "            loss = model.loss_fn(X, y, seq_length, is_training=False)\n",
        "            y_pred = model.predict(X, seq_length, is_training=False)\n",
        "            y_pred_class = tf.argmax(y_pred, axis=-1)  # Get the predicted class index\n",
        "            accuracy = tf.reduce_mean(tf.cast(tf.equal(y, y_pred_class), dtype=tf.float32))\n",
        "            test_acc(accuracy)\n",
        "            test_loss(loss)\n",
        "\n",
        "            all_preds.extend(y_pred_class.numpy())\n",
        "            all_true.extend(y.numpy())\n",
        "\n",
        "    print(\"Test accuracy:\", test_acc.result().numpy())\n",
        "    print(\"Test loss:\", test_loss.result().numpy())\n",
        "\n",
        "    return all_true, all_preds\n"
      ],
      "metadata": {
        "id": "PwEyXdgsBK8G"
      },
      "execution_count": 12,
      "outputs": []
    },
    {
      "cell_type": "code",
      "source": [
        "all_eval_accuracies = []\n",
        "all_train_accuracies = []\n",
        "num_runs = 5\n",
        "all_precisions = []\n",
        "all_recalls = []\n",
        "all_f1s = []\n",
        "all_confusion_matrices = []  \n",
        "class_names = ['Class 1', 'Class 2']\n",
        "trial_start = 0\n",
        "trial_end = 0\n",
        "\n",
        "for i in range(num_runs):\n",
        "    print(f\"Run {i+1}/{num_runs}\")\n",
        "\n",
        "    trial_start = (i*20)\n",
        "    trial_end = (i+1) * 20\n",
        "    \n",
        "    rnn_model = RNNModel(vocabulary_size=len(word2idx), rnn_cell='rnn', device=device,\n",
        "                      checkpoint_directory=checkpoint_directory,\n",
        "                       checkpoint_prefix = checkpoint_prefix, dropout_rate=1e-6)\n",
        "    rnn_model.fit(train_dataset, val_dataset, optimizer, num_epochs=20, \n",
        "                  early_stopping_rounds=10, verbose=1, train_from_scratch=True, ckpoint = checkpoint)\n",
        "    \n",
        "    all_eval_accuracies.extend(rnn_model.history['eval_acc'])  \n",
        "    all_train_accuracies.extend(rnn_model.history['train_acc'])  \n",
        "\n",
        "    true_labels, pred_labels = predict_model(rnn_model, test_dataset)\n",
        "    precision, recall, f1, _ = precision_recall_fscore_support(true_labels, pred_labels, average='weighted')\n",
        "    \n",
        "    all_precisions.append(precision)\n",
        "    all_recalls.append(recall)\n",
        "    all_f1s.append(f1)\n",
        "    \n",
        "    cm = confusion_matrix(true_labels, pred_labels)  \n",
        "    all_confusion_matrices.append(cm)  \n",
        "\n",
        "    # Print the results for the current trial\n",
        "    print(f\"Trial {i+1} precision: {precision:.4f}\")\n",
        "    print(f\"Trial {i+1} recall: {recall:.4f}\")\n",
        "    print(f\"Trial {i+1} F1 score: {f1:.4f}\")\n",
        "    print(f\"Trial {i+1} mean training accuracy: {np.mean(rnn_model.history['train_acc']):.4f}\")\n",
        "    print(f\"Trial {i+1} mean evaluation accuracy: {np.mean(rnn_model.history['eval_acc']):.4f}\")\n",
        "\n",
        "    eval_accuracies_sem = np.std(all_eval_accuracies[trial_start:trial_end], ddof=1) / np.sqrt(20)\n",
        "    train_accuracies_sem = np.std(all_train_accuracies[trial_start:trial_end], ddof=1) / np.sqrt(20)\n",
        "\n",
        "    print(f\"Trial {i+1} standard error of the mean for evaluation accuracies: {eval_accuracies_sem:.4f}\")\n",
        "    print(f\"Trial {i+1} standard error of the mean for training accuracies: {train_accuracies_sem:.4f}\")\n",
        "\n",
        "    fig = plot_given_confusion_matrix(cm, labels=class_names, figsize=(8, 6))\n",
        "    plt.show()\n",
        "\n",
        "mean_confusion_matrix = np.mean(all_confusion_matrices, axis=0) \n",
        "\n",
        "y_true = np.array(true_labels)\n",
        "y_pred = np.array(pred_labels)\n",
        "\n",
        "rounded_mean_confusion_matrix = np.round(mean_confusion_matrix).astype(int)\n",
        "fig = plot_given_confusion_matrix(rounded_mean_confusion_matrix, labels=class_names, figsize=(8, 6))\n",
        "plt.show()\n",
        "\n",
        "# Add these lines to print the accuracies after the loop\n",
        "print(\"All evaluation accuracies:\", all_eval_accuracies)\n",
        "print(\"All training accuracies:\", all_train_accuracies)\n",
        "\n",
        "\n"
      ],
      "metadata": {
        "id": "wls4vS77a2Go",
        "colab": {
          "base_uri": "https://localhost:8080/",
          "height": 597
        },
        "outputId": "df7d67f0-ddac-4e8d-ef83-55750e444432"
      },
      "execution_count": 13,
      "outputs": [
        {
          "output_type": "stream",
          "name": "stderr",
          "text": [
            "<ipython-input-8-c6a85015b91a>:53: UserWarning: `tf.nn.rnn_cell.BasicRNNCell` is deprecated and will be removed in a future version. This class is equivalent as `tf.keras.layers.SimpleRNNCell`, and will be replaced by that in Tensorflow 2.0.\n",
            "  self.rnn_cell = tf.compat.v1.nn.rnn_cell.BasicRNNCell(cell_size)\n",
            "WARNING:tensorflow:<keras.layers.rnn.legacy_cells.BasicRNNCell object at 0x7f97786760d0>: Note that this cell is not optimized for performance.\n"
          ]
        },
        {
          "output_type": "stream",
          "name": "stdout",
          "text": [
            "Run 1/5\n"
          ]
        },
        {
          "output_type": "stream",
          "name": "stderr",
          "text": [
            "WARNING:tensorflow:From /usr/local/lib/python3.9/dist-packages/keras/layers/rnn/legacy_cells.py:463: calling Zeros.__init__ (from tensorflow.python.ops.init_ops) with dtype is deprecated and will be removed in a future version.\n",
            "Instructions for updating:\n",
            "Call initializer instance with the dtype argument instead of passing it to the constructor\n",
            "/usr/local/lib/python3.9/dist-packages/keras/legacy_tf_layers/base.py:627: UserWarning: `layer.updates` will be removed in a future version. This property should not be used in TensorFlow 2.0, as `updates` are applied automatically.\n",
            "  self.updates, tf.compat.v1.GraphKeys.UPDATE_OPS\n"
          ]
        },
        {
          "output_type": "stream",
          "name": "stdout",
          "text": [
            "Train accuracy at epoch 1:  0.5729333\n",
            "Eval accuracy at epoch 1:  0.5336\n"
          ]
        },
        {
          "output_type": "error",
          "ename": "KeyboardInterrupt",
          "evalue": "ignored",
          "traceback": [
            "\u001b[0;31m---------------------------------------------------------------------------\u001b[0m",
            "\u001b[0;31mKeyboardInterrupt\u001b[0m                         Traceback (most recent call last)",
            "\u001b[0;32m<ipython-input-13-0a2ea52adbf2>\u001b[0m in \u001b[0;36m<cell line: 12>\u001b[0;34m()\u001b[0m\n\u001b[1;32m     19\u001b[0m                       \u001b[0mcheckpoint_directory\u001b[0m\u001b[0;34m=\u001b[0m\u001b[0mcheckpoint_directory\u001b[0m\u001b[0;34m,\u001b[0m\u001b[0;34m\u001b[0m\u001b[0;34m\u001b[0m\u001b[0m\n\u001b[1;32m     20\u001b[0m                        checkpoint_prefix = checkpoint_prefix, dropout_rate=1e-6)\n\u001b[0;32m---> 21\u001b[0;31m     rnn_model.fit(train_dataset, val_dataset, optimizer, num_epochs=20, \n\u001b[0m\u001b[1;32m     22\u001b[0m                   early_stopping_rounds=10, verbose=1, train_from_scratch=True, ckpoint = checkpoint)\n\u001b[1;32m     23\u001b[0m \u001b[0;34m\u001b[0m\u001b[0m\n",
            "\u001b[0;32m<ipython-input-8-c6a85015b91a>\u001b[0m in \u001b[0;36mfit\u001b[0;34m(self, training_data, eval_data, optimizer, num_epochs, early_stopping_rounds, verbose, train_from_scratch, ckpoint)\u001b[0m\n\u001b[1;32m    191\u001b[0m             \u001b[0;32mfor\u001b[0m \u001b[0mi\u001b[0m \u001b[0;32min\u001b[0m \u001b[0mrange\u001b[0m\u001b[0;34m(\u001b[0m\u001b[0mnum_epochs\u001b[0m\u001b[0;34m)\u001b[0m\u001b[0;34m:\u001b[0m\u001b[0;34m\u001b[0m\u001b[0;34m\u001b[0m\u001b[0m\n\u001b[1;32m    192\u001b[0m                 \u001b[0;31m# Training with gradient descent\u001b[0m\u001b[0;34m\u001b[0m\u001b[0;34m\u001b[0m\u001b[0m\n\u001b[0;32m--> 193\u001b[0;31m                 \u001b[0;32mfor\u001b[0m \u001b[0mstep\u001b[0m\u001b[0;34m,\u001b[0m \u001b[0;34m(\u001b[0m\u001b[0mX\u001b[0m\u001b[0;34m,\u001b[0m \u001b[0my\u001b[0m\u001b[0;34m,\u001b[0m \u001b[0mseq_length\u001b[0m\u001b[0;34m)\u001b[0m \u001b[0;32min\u001b[0m \u001b[0menumerate\u001b[0m\u001b[0;34m(\u001b[0m\u001b[0mtraining_data\u001b[0m\u001b[0;34m)\u001b[0m\u001b[0;34m:\u001b[0m\u001b[0;34m\u001b[0m\u001b[0;34m\u001b[0m\u001b[0m\n\u001b[0m\u001b[1;32m    194\u001b[0m                     \u001b[0mgrads\u001b[0m \u001b[0;34m=\u001b[0m \u001b[0mself\u001b[0m\u001b[0;34m.\u001b[0m\u001b[0mgrads_fn\u001b[0m\u001b[0;34m(\u001b[0m\u001b[0mX\u001b[0m\u001b[0;34m,\u001b[0m \u001b[0my\u001b[0m\u001b[0;34m,\u001b[0m \u001b[0mseq_length\u001b[0m\u001b[0;34m,\u001b[0m \u001b[0;32mTrue\u001b[0m\u001b[0;34m)\u001b[0m\u001b[0;34m\u001b[0m\u001b[0;34m\u001b[0m\u001b[0m\n\u001b[1;32m    195\u001b[0m                     \u001b[0moptimizer\u001b[0m\u001b[0;34m.\u001b[0m\u001b[0mapply_gradients\u001b[0m\u001b[0;34m(\u001b[0m\u001b[0mzip\u001b[0m\u001b[0;34m(\u001b[0m\u001b[0mgrads\u001b[0m\u001b[0;34m,\u001b[0m \u001b[0mself\u001b[0m\u001b[0;34m.\u001b[0m\u001b[0mvariables\u001b[0m\u001b[0;34m)\u001b[0m\u001b[0;34m)\u001b[0m\u001b[0;34m\u001b[0m\u001b[0;34m\u001b[0m\u001b[0m\n",
            "\u001b[0;32m/usr/local/lib/python3.9/dist-packages/tensorflow/python/data/ops/iterator_ops.py\u001b[0m in \u001b[0;36m__next__\u001b[0;34m(self)\u001b[0m\n\u001b[1;32m    795\u001b[0m   \u001b[0;32mdef\u001b[0m \u001b[0m__next__\u001b[0m\u001b[0;34m(\u001b[0m\u001b[0mself\u001b[0m\u001b[0;34m)\u001b[0m\u001b[0;34m:\u001b[0m\u001b[0;34m\u001b[0m\u001b[0;34m\u001b[0m\u001b[0m\n\u001b[1;32m    796\u001b[0m     \u001b[0;32mtry\u001b[0m\u001b[0;34m:\u001b[0m\u001b[0;34m\u001b[0m\u001b[0;34m\u001b[0m\u001b[0m\n\u001b[0;32m--> 797\u001b[0;31m       \u001b[0;32mreturn\u001b[0m \u001b[0mself\u001b[0m\u001b[0;34m.\u001b[0m\u001b[0m_next_internal\u001b[0m\u001b[0;34m(\u001b[0m\u001b[0;34m)\u001b[0m\u001b[0;34m\u001b[0m\u001b[0;34m\u001b[0m\u001b[0m\n\u001b[0m\u001b[1;32m    798\u001b[0m     \u001b[0;32mexcept\u001b[0m \u001b[0merrors\u001b[0m\u001b[0;34m.\u001b[0m\u001b[0mOutOfRangeError\u001b[0m\u001b[0;34m:\u001b[0m\u001b[0;34m\u001b[0m\u001b[0;34m\u001b[0m\u001b[0m\n\u001b[1;32m    799\u001b[0m       \u001b[0;32mraise\u001b[0m \u001b[0mStopIteration\u001b[0m\u001b[0;34m\u001b[0m\u001b[0;34m\u001b[0m\u001b[0m\n",
            "\u001b[0;32m/usr/local/lib/python3.9/dist-packages/tensorflow/python/data/ops/iterator_ops.py\u001b[0m in \u001b[0;36m_next_internal\u001b[0;34m(self)\u001b[0m\n\u001b[1;32m    778\u001b[0m     \u001b[0;31m# to communicate that there is no more data to iterate over.\u001b[0m\u001b[0;34m\u001b[0m\u001b[0;34m\u001b[0m\u001b[0m\n\u001b[1;32m    779\u001b[0m     \u001b[0;32mwith\u001b[0m \u001b[0mcontext\u001b[0m\u001b[0;34m.\u001b[0m\u001b[0mexecution_mode\u001b[0m\u001b[0;34m(\u001b[0m\u001b[0mcontext\u001b[0m\u001b[0;34m.\u001b[0m\u001b[0mSYNC\u001b[0m\u001b[0;34m)\u001b[0m\u001b[0;34m:\u001b[0m\u001b[0;34m\u001b[0m\u001b[0;34m\u001b[0m\u001b[0m\n\u001b[0;32m--> 780\u001b[0;31m       ret = gen_dataset_ops.iterator_get_next(\n\u001b[0m\u001b[1;32m    781\u001b[0m           \u001b[0mself\u001b[0m\u001b[0;34m.\u001b[0m\u001b[0m_iterator_resource\u001b[0m\u001b[0;34m,\u001b[0m\u001b[0;34m\u001b[0m\u001b[0;34m\u001b[0m\u001b[0m\n\u001b[1;32m    782\u001b[0m           \u001b[0moutput_types\u001b[0m\u001b[0;34m=\u001b[0m\u001b[0mself\u001b[0m\u001b[0;34m.\u001b[0m\u001b[0m_flat_output_types\u001b[0m\u001b[0;34m,\u001b[0m\u001b[0;34m\u001b[0m\u001b[0;34m\u001b[0m\u001b[0m\n",
            "\u001b[0;32m/usr/local/lib/python3.9/dist-packages/tensorflow/python/ops/gen_dataset_ops.py\u001b[0m in \u001b[0;36miterator_get_next\u001b[0;34m(iterator, output_types, output_shapes, name)\u001b[0m\n\u001b[1;32m   3009\u001b[0m   \u001b[0;32mif\u001b[0m \u001b[0mtld\u001b[0m\u001b[0;34m.\u001b[0m\u001b[0mis_eager\u001b[0m\u001b[0;34m:\u001b[0m\u001b[0;34m\u001b[0m\u001b[0;34m\u001b[0m\u001b[0m\n\u001b[1;32m   3010\u001b[0m     \u001b[0;32mtry\u001b[0m\u001b[0;34m:\u001b[0m\u001b[0;34m\u001b[0m\u001b[0;34m\u001b[0m\u001b[0m\n\u001b[0;32m-> 3011\u001b[0;31m       _result = pywrap_tfe.TFE_Py_FastPathExecute(\n\u001b[0m\u001b[1;32m   3012\u001b[0m         \u001b[0m_ctx\u001b[0m\u001b[0;34m,\u001b[0m \u001b[0;34m\"IteratorGetNext\"\u001b[0m\u001b[0;34m,\u001b[0m \u001b[0mname\u001b[0m\u001b[0;34m,\u001b[0m \u001b[0miterator\u001b[0m\u001b[0;34m,\u001b[0m \u001b[0;34m\"output_types\"\u001b[0m\u001b[0;34m,\u001b[0m \u001b[0moutput_types\u001b[0m\u001b[0;34m,\u001b[0m\u001b[0;34m\u001b[0m\u001b[0;34m\u001b[0m\u001b[0m\n\u001b[1;32m   3013\u001b[0m         \"output_shapes\", output_shapes)\n",
            "\u001b[0;31mKeyboardInterrupt\u001b[0m: "
          ]
        }
      ]
    },
    {
      "cell_type": "markdown",
      "metadata": {
        "id": "JmzXh0ljP7Ua"
      },
      "source": [
        "### Model training with LSTM cells \n",
        "---"
      ]
    },
    {
      "cell_type": "code",
      "execution_count": 14,
      "metadata": {
        "id": "TmjyKjDYP7Ub",
        "colab": {
          "base_uri": "https://localhost:8080/"
        },
        "outputId": "4ede9e14-057f-4a84-cca8-4828c07331d9"
      },
      "outputs": [
        {
          "output_type": "stream",
          "name": "stderr",
          "text": [
            "<ipython-input-8-c6a85015b91a>:50: UserWarning: `tf.nn.rnn_cell.BasicLSTMCell` is deprecated and will be removed in a future version. This class is equivalent as `tf.keras.layers.LSTMCell`, and will be replaced by that in Tensorflow 2.0.\n",
            "  self.rnn_cell = tf.compat.v1.nn.rnn_cell.BasicLSTMCell(cell_size)\n",
            "WARNING:tensorflow:<keras.layers.rnn.legacy_cells.BasicLSTMCell object at 0x7f98a48918b0>: Note that this cell is not optimized for performance. Please use tf.compat.v1.keras.layers.CuDNNLSTM for better performance on GPU.\n"
          ]
        }
      ],
      "source": [
        "# Define optimizer.\n",
        "checkpoint_directory = '/content/models_checkpoints/ImdbLSTM/'\n",
        "checkpoint_prefix = os.path.join(checkpoint_directory, \"ckpt\")\n",
        "optimizer = tf.compat.v1.train.AdamOptimizer(learning_rate=1e-4)\n",
        "\n",
        "# Instantiate model. This doesn't initialize the variables yet.\n",
        "lstm_model = RNNModel(vocabulary_size=len(word2idx), rnn_cell='lstm', \n",
        "                       device=device, checkpoint_directory=checkpoint_directory, checkpoint_prefix = checkpoint_prefix)"
      ]
    },
    {
      "cell_type": "code",
      "execution_count": 15,
      "metadata": {
        "id": "zd5bDpAzP7Ub",
        "colab": {
          "base_uri": "https://localhost:8080/",
          "height": 36
        },
        "outputId": "970dc7fd-4016-449e-dd0d-0ec666f9cc0b"
      },
      "outputs": [
        {
          "output_type": "execute_result",
          "data": {
            "text/plain": [
              "'/content/models_checkpoints/ImdbLSTM/ckpt-1'"
            ],
            "application/vnd.google.colaboratory.intrinsic+json": {
              "type": "string"
            }
          },
          "metadata": {},
          "execution_count": 15
        }
      ],
      "source": [
        "# Train model\n",
        "checkpoint = tf.train.Checkpoint(optimizer=optimizer, model=lstm_model)\n",
        "checkpoint.save(file_prefix=checkpoint_prefix)\n",
        "#lstm_model.fit(train_dataset, val_dataset, optimizer, num_epochs=20, \n",
        "                #early_stopping_rounds=5, verbose=1, train_from_scratch=True,ckpoint = checkpoint)"
      ]
    },
    {
      "cell_type": "code",
      "source": [
        "all_eval_accuracies = []\n",
        "all_train_accuracies = []\n",
        "num_runs = 5\n",
        "all_precisions = []\n",
        "all_recalls = []\n",
        "all_f1s = []\n",
        "all_confusion_matrices = []  \n",
        "class_names = ['Class 1', 'Class 2']\n",
        "trial_start = 0\n",
        "trial_end = 0\n",
        "\n",
        "for i in range(num_runs):\n",
        "    print(f\"Run {i+1}/{num_runs}\")\n",
        "\n",
        "    trial_start = (i*20)\n",
        "    trial_end = (i+1) * 20\n",
        "    \n",
        "    # Instantiate model. This doesn't initialize the variables yet.\n",
        "    lstm_model = RNNModel(vocabulary_size=len(word2idx), rnn_cell='lstm', \n",
        "                       device=device, checkpoint_directory=checkpoint_directory,\n",
        "                        checkpoint_prefix = checkpoint_prefix, dropout_rate=1e-7)\n",
        "    lstm_model.fit(train_dataset, val_dataset, optimizer, num_epochs=20, \n",
        "                early_stopping_rounds=10, verbose=1, train_from_scratch=True,ckpoint = checkpoint)\n",
        "    \n",
        "    all_eval_accuracies.extend(lstm_model.history['eval_acc'])  \n",
        "    all_train_accuracies.extend(lstm_model.history['train_acc'])  \n",
        "\n",
        "    true_labels, pred_labels = predict_model(lstm_model, test_dataset)\n",
        "    precision, recall, f1, _ = precision_recall_fscore_support(true_labels, pred_labels, average='weighted')\n",
        "    \n",
        "    all_precisions.append(precision)\n",
        "    all_recalls.append(recall)\n",
        "    all_f1s.append(f1)\n",
        "    \n",
        "    cm = confusion_matrix(true_labels, pred_labels)  \n",
        "    all_confusion_matrices.append(cm)  \n",
        "\n",
        "    # Print the results for the current trial\n",
        "    print(f\"Trial {i+1} precision: {precision:.4f}\")\n",
        "    print(f\"Trial {i+1} recall: {recall:.4f}\")\n",
        "    print(f\"Trial {i+1} F1 score: {f1:.4f}\")\n",
        "    print(f\"Trial {i+1} mean training accuracy: {np.mean(lstm_model.history['train_acc']):.4f}\")\n",
        "    print(f\"Trial {i+1} mean evaluation accuracy: {np.mean(lstm_model.history['eval_acc']):.4f}\")\n",
        "\n",
        "    eval_accuracies_sem = np.std(all_eval_accuracies[trial_start:trial_end], ddof=1) / np.sqrt(20)\n",
        "    train_accuracies_sem = np.std(all_train_accuracies[trial_start:trial_end], ddof=1) / np.sqrt(20)\n",
        "\n",
        "    print(f\"Trial {i+1} standard error of the mean for evaluation accuracies: {eval_accuracies_sem:.4f}\")\n",
        "    print(f\"Trial {i+1} standard error of the mean for training accuracies: {train_accuracies_sem:.4f}\")\n",
        "\n",
        "    fig = plot_given_confusion_matrix(cm, labels=class_names, figsize=(8, 6))\n",
        "    plt.show()\n",
        "\n",
        "mean_confusion_matrix = np.mean(all_confusion_matrices, axis=0) \n",
        "\n",
        "y_true = np.array(true_labels)\n",
        "y_pred = np.array(pred_labels)\n",
        "\n",
        "rounded_mean_confusion_matrix = np.round(mean_confusion_matrix).astype(int)\n",
        "fig = plot_given_confusion_matrix(rounded_mean_confusion_matrix, labels=class_names, figsize=(8, 6))\n",
        "plt.show()\n",
        "\n",
        "# Add these lines to print the accuracies after the loop\n",
        "print(\"All evaluation accuracies:\", all_eval_accuracies)\n",
        "print(\"All training accuracies:\", all_train_accuracies)\n"
      ],
      "metadata": {
        "id": "Pe15_7UI8t2B",
        "colab": {
          "base_uri": "https://localhost:8080/",
          "height": 1000
        },
        "outputId": "33513880-8c78-4ded-dd47-22f336922bb8"
      },
      "execution_count": 21,
      "outputs": [
        {
          "output_type": "stream",
          "name": "stderr",
          "text": [
            "<ipython-input-8-c6a85015b91a>:50: UserWarning: `tf.nn.rnn_cell.BasicLSTMCell` is deprecated and will be removed in a future version. This class is equivalent as `tf.keras.layers.LSTMCell`, and will be replaced by that in Tensorflow 2.0.\n",
            "  self.rnn_cell = tf.compat.v1.nn.rnn_cell.BasicLSTMCell(cell_size)\n",
            "WARNING:tensorflow:<keras.layers.rnn.legacy_cells.BasicLSTMCell object at 0x7f967bb7c940>: Note that this cell is not optimized for performance. Please use tf.compat.v1.keras.layers.CuDNNLSTM for better performance on GPU.\n"
          ]
        },
        {
          "output_type": "stream",
          "name": "stdout",
          "text": [
            "Run 1/5\n"
          ]
        },
        {
          "output_type": "stream",
          "name": "stderr",
          "text": [
            "/usr/local/lib/python3.9/dist-packages/keras/legacy_tf_layers/base.py:627: UserWarning: `layer.updates` will be removed in a future version. This property should not be used in TensorFlow 2.0, as `updates` are applied automatically.\n",
            "  self.updates, tf.compat.v1.GraphKeys.UPDATE_OPS\n"
          ]
        },
        {
          "output_type": "stream",
          "name": "stdout",
          "text": [
            "Train accuracy at epoch 1:  0.68715554\n",
            "Eval accuracy at epoch 1:  0.642\n",
            "Train accuracy at epoch 2:  0.7413778\n",
            "Eval accuracy at epoch 2:  0.696\n",
            "Train accuracy at epoch 3:  0.7648889\n",
            "Eval accuracy at epoch 3:  0.7196\n",
            "Train accuracy at epoch 4:  0.78995556\n",
            "Eval accuracy at epoch 4:  0.7392\n",
            "Train accuracy at epoch 5:  0.8193778\n",
            "Eval accuracy at epoch 5:  0.7744\n",
            "Train accuracy at epoch 6:  0.82555556\n",
            "Eval accuracy at epoch 6:  0.8092\n",
            "Train accuracy at epoch 7:  0.85595554\n",
            "Eval accuracy at epoch 7:  0.8284\n",
            "Train accuracy at epoch 8:  0.8738667\n",
            "Eval accuracy at epoch 8:  0.852\n",
            "Train accuracy at epoch 9:  0.912\n",
            "Eval accuracy at epoch 9:  0.8852\n",
            "Train accuracy at epoch 10:  0.9135111\n",
            "Eval accuracy at epoch 10:  0.8868\n",
            "Train accuracy at epoch 11:  0.9372889\n",
            "Eval accuracy at epoch 11:  0.8988\n",
            "Train accuracy at epoch 12:  0.9436\n",
            "Eval accuracy at epoch 12:  0.8992\n",
            "Train accuracy at epoch 13:  0.95497775\n",
            "Eval accuracy at epoch 13:  0.9104\n",
            "Train accuracy at epoch 14:  0.96173334\n",
            "Eval accuracy at epoch 14:  0.9092\n",
            "Train accuracy at epoch 15:  0.9677333\n",
            "Eval accuracy at epoch 15:  0.9168\n",
            "Train accuracy at epoch 16:  0.97297776\n",
            "Eval accuracy at epoch 16:  0.92\n",
            "Train accuracy at epoch 17:  0.9764\n",
            "Eval accuracy at epoch 17:  0.9232\n",
            "Train accuracy at epoch 18:  0.98053336\n",
            "Eval accuracy at epoch 18:  0.9208\n",
            "Train accuracy at epoch 19:  0.9836444\n",
            "Eval accuracy at epoch 19:  0.9232\n",
            "Train accuracy at epoch 20:  0.98586667\n",
            "Eval accuracy at epoch 20:  0.924\n",
            "Test accuracy: 0.8686083\n",
            "Test loss: 0.35382214\n",
            "Trial 1 precision: 0.8719\n",
            "Trial 1 recall: 0.8715\n",
            "Trial 1 F1 score: 0.8714\n",
            "Trial 1 mean training accuracy: 0.8924\n",
            "Trial 1 mean evaluation accuracy: 0.8489\n",
            "Trial 1 standard error of the mean for evaluation accuracies: 0.0198\n",
            "Trial 1 standard error of the mean for training accuracies: 0.0206\n"
          ]
        },
        {
          "output_type": "display_data",
          "data": {
            "text/plain": [
              "<Figure size 800x600 with 2 Axes>"
            ],
            "image/png": "[encoded data removed]"
          },
          "metadata": {}
        },
        {
          "output_type": "stream",
          "name": "stderr",
          "text": [
            "<ipython-input-8-c6a85015b91a>:50: UserWarning: `tf.nn.rnn_cell.BasicLSTMCell` is deprecated and will be removed in a future version. This class is equivalent as `tf.keras.layers.LSTMCell`, and will be replaced by that in Tensorflow 2.0.\n",
            "  self.rnn_cell = tf.compat.v1.nn.rnn_cell.BasicLSTMCell(cell_size)\n",
            "WARNING:tensorflow:<keras.layers.rnn.legacy_cells.BasicLSTMCell object at 0x7f9555cf8fa0>: Note that this cell is not optimized for performance. Please use tf.compat.v1.keras.layers.CuDNNLSTM for better performance on GPU.\n"
          ]
        },
        {
          "output_type": "stream",
          "name": "stdout",
          "text": [
            "Run 2/5\n"
          ]
        },
        {
          "output_type": "stream",
          "name": "stderr",
          "text": [
            "/usr/local/lib/python3.9/dist-packages/keras/legacy_tf_layers/base.py:627: UserWarning: `layer.updates` will be removed in a future version. This property should not be used in TensorFlow 2.0, as `updates` are applied automatically.\n",
            "  self.updates, tf.compat.v1.GraphKeys.UPDATE_OPS\n"
          ]
        },
        {
          "output_type": "stream",
          "name": "stdout",
          "text": [
            "Train accuracy at epoch 1:  0.5920445\n",
            "Eval accuracy at epoch 1:  0.5664\n",
            "Train accuracy at epoch 2:  0.74275553\n",
            "Eval accuracy at epoch 2:  0.702\n",
            "Train accuracy at epoch 3:  0.7684889\n",
            "Eval accuracy at epoch 3:  0.7168\n",
            "Train accuracy at epoch 4:  0.7892889\n",
            "Eval accuracy at epoch 4:  0.74\n",
            "Train accuracy at epoch 5:  0.7859111\n",
            "Eval accuracy at epoch 5:  0.772\n",
            "Train accuracy at epoch 6:  0.8407111\n",
            "Eval accuracy at epoch 6:  0.8264\n",
            "Train accuracy at epoch 7:  0.8746667\n",
            "Eval accuracy at epoch 7:  0.848\n",
            "Train accuracy at epoch 8:  0.8895111\n",
            "Eval accuracy at epoch 8:  0.8636\n",
            "Train accuracy at epoch 9:  0.9117333\n",
            "Eval accuracy at epoch 9:  0.8876\n",
            "Train accuracy at epoch 10:  0.9300445\n",
            "Eval accuracy at epoch 10:  0.8928\n",
            "Train accuracy at epoch 11:  0.9395555\n",
            "Eval accuracy at epoch 11:  0.8952\n",
            "Train accuracy at epoch 12:  0.95408887\n",
            "Eval accuracy at epoch 12:  0.9044\n",
            "Train accuracy at epoch 13:  0.9614222\n",
            "Eval accuracy at epoch 13:  0.9108\n",
            "Train accuracy at epoch 14:  0.96675557\n",
            "Eval accuracy at epoch 14:  0.914\n",
            "Train accuracy at epoch 15:  0.9718222\n",
            "Eval accuracy at epoch 15:  0.9144\n",
            "Train accuracy at epoch 16:  0.9767111\n",
            "Eval accuracy at epoch 16:  0.9144\n",
            "Train accuracy at epoch 17:  0.9809333\n",
            "Eval accuracy at epoch 17:  0.9172\n",
            "Train accuracy at epoch 18:  0.9838667\n",
            "Eval accuracy at epoch 18:  0.9192\n",
            "Train accuracy at epoch 19:  0.98568887\n",
            "Eval accuracy at epoch 19:  0.9228\n",
            "Train accuracy at epoch 20:  0.9871111\n",
            "Eval accuracy at epoch 20:  0.9172\n",
            "Test accuracy: 0.8649462\n",
            "Test loss: 0.39734453\n",
            "Trial 2 precision: 0.8673\n",
            "Trial 2 recall: 0.8673\n",
            "Trial 2 F1 score: 0.8673\n",
            "Trial 2 mean training accuracy: 0.8917\n",
            "Trial 2 mean evaluation accuracy: 0.8473\n",
            "Trial 2 standard error of the mean for evaluation accuracies: 0.0219\n",
            "Trial 2 standard error of the mean for training accuracies: 0.0240\n"
          ]
        },
        {
          "output_type": "display_data",
          "data": {
            "text/plain": [
              "<Figure size 800x600 with 2 Axes>"
            ],
            "image/png": "[encoded data removed]"
          },
          "metadata": {}
        },
        {
          "output_type": "stream",
          "name": "stderr",
          "text": [
            "<ipython-input-8-c6a85015b91a>:50: UserWarning: `tf.nn.rnn_cell.BasicLSTMCell` is deprecated and will be removed in a future version. This class is equivalent as `tf.keras.layers.LSTMCell`, and will be replaced by that in Tensorflow 2.0.\n",
            "  self.rnn_cell = tf.compat.v1.nn.rnn_cell.BasicLSTMCell(cell_size)\n",
            "WARNING:tensorflow:<keras.layers.rnn.legacy_cells.BasicLSTMCell object at 0x7f9560407f10>: Note that this cell is not optimized for performance. Please use tf.compat.v1.keras.layers.CuDNNLSTM for better performance on GPU.\n"
          ]
        },
        {
          "output_type": "stream",
          "name": "stdout",
          "text": [
            "Run 3/5\n"
          ]
        },
        {
          "output_type": "stream",
          "name": "stderr",
          "text": [
            "/usr/local/lib/python3.9/dist-packages/keras/legacy_tf_layers/base.py:627: UserWarning: `layer.updates` will be removed in a future version. This property should not be used in TensorFlow 2.0, as `updates` are applied automatically.\n",
            "  self.updates, tf.compat.v1.GraphKeys.UPDATE_OPS\n"
          ]
        },
        {
          "output_type": "stream",
          "name": "stdout",
          "text": [
            "Train accuracy at epoch 1:  0.6265333\n",
            "Eval accuracy at epoch 1:  0.606\n",
            "Train accuracy at epoch 2:  0.6905778\n",
            "Eval accuracy at epoch 2:  0.6588\n",
            "Train accuracy at epoch 3:  0.78871113\n",
            "Eval accuracy at epoch 3:  0.7492\n",
            "Train accuracy at epoch 4:  0.8130222\n",
            "Eval accuracy at epoch 4:  0.7716\n",
            "Train accuracy at epoch 5:  0.8335556\n",
            "Eval accuracy at epoch 5:  0.8164\n",
            "Train accuracy at epoch 6:  0.8452889\n",
            "Eval accuracy at epoch 6:  0.8288\n",
            "Train accuracy at epoch 7:  0.8782222\n",
            "Eval accuracy at epoch 7:  0.8532\n",
            "Train accuracy at epoch 8:  0.9083111\n",
            "Eval accuracy at epoch 8:  0.8816\n",
            "Train accuracy at epoch 9:  0.9177778\n",
            "Eval accuracy at epoch 9:  0.8752\n",
            "Train accuracy at epoch 10:  0.93715554\n",
            "Eval accuracy at epoch 10:  0.9004\n",
            "Train accuracy at epoch 11:  0.9493333\n",
            "Eval accuracy at epoch 11:  0.9036\n",
            "Train accuracy at epoch 12:  0.9548889\n",
            "Eval accuracy at epoch 12:  0.9068\n",
            "Train accuracy at epoch 13:  0.9647111\n",
            "Eval accuracy at epoch 13:  0.9092\n",
            "Train accuracy at epoch 14:  0.9717778\n",
            "Eval accuracy at epoch 14:  0.9152\n",
            "Train accuracy at epoch 15:  0.9756889\n",
            "Eval accuracy at epoch 15:  0.9184\n",
            "Train accuracy at epoch 16:  0.97875553\n",
            "Eval accuracy at epoch 16:  0.9212\n",
            "Train accuracy at epoch 17:  0.98373336\n",
            "Eval accuracy at epoch 17:  0.9204\n",
            "Train accuracy at epoch 18:  0.98573333\n",
            "Eval accuracy at epoch 18:  0.9252\n",
            "Train accuracy at epoch 19:  0.98764443\n",
            "Eval accuracy at epoch 19:  0.924\n",
            "Train accuracy at epoch 20:  0.9894222\n",
            "Eval accuracy at epoch 20:  0.9192\n",
            "Test accuracy: 0.87114966\n",
            "Test loss: 0.39328608\n",
            "Trial 3 precision: 0.8672\n",
            "Trial 3 recall: 0.8671\n",
            "Trial 3 F1 score: 0.8671\n",
            "Trial 3 mean training accuracy: 0.8990\n",
            "Trial 3 mean evaluation accuracy: 0.8552\n",
            "Trial 3 standard error of the mean for evaluation accuracies: 0.0207\n",
            "Trial 3 standard error of the mean for training accuracies: 0.0232\n"
          ]
        },
        {
          "output_type": "display_data",
          "data": {
            "text/plain": [
              "<Figure size 800x600 with 2 Axes>"
            ],
            "image/png": "[encoded data removed]"
          },
          "metadata": {}
        },
        {
          "output_type": "stream",
          "name": "stderr",
          "text": [
            "<ipython-input-8-c6a85015b91a>:50: UserWarning: `tf.nn.rnn_cell.BasicLSTMCell` is deprecated and will be removed in a future version. This class is equivalent as `tf.keras.layers.LSTMCell`, and will be replaced by that in Tensorflow 2.0.\n",
            "  self.rnn_cell = tf.compat.v1.nn.rnn_cell.BasicLSTMCell(cell_size)\n",
            "WARNING:tensorflow:<keras.layers.rnn.legacy_cells.BasicLSTMCell object at 0x7f967ba88a60>: Note that this cell is not optimized for performance. Please use tf.compat.v1.keras.layers.CuDNNLSTM for better performance on GPU.\n"
          ]
        },
        {
          "output_type": "stream",
          "name": "stdout",
          "text": [
            "Run 4/5\n"
          ]
        },
        {
          "output_type": "stream",
          "name": "stderr",
          "text": [
            "/usr/local/lib/python3.9/dist-packages/keras/legacy_tf_layers/base.py:627: UserWarning: `layer.updates` will be removed in a future version. This property should not be used in TensorFlow 2.0, as `updates` are applied automatically.\n",
            "  self.updates, tf.compat.v1.GraphKeys.UPDATE_OPS\n"
          ]
        },
        {
          "output_type": "stream",
          "name": "stdout",
          "text": [
            "Train accuracy at epoch 1:  0.6906667\n",
            "Eval accuracy at epoch 1:  0.6432\n",
            "Train accuracy at epoch 2:  0.7536\n",
            "Eval accuracy at epoch 2:  0.7124\n",
            "Train accuracy at epoch 3:  0.77893335\n",
            "Eval accuracy at epoch 3:  0.7304\n",
            "Train accuracy at epoch 4:  0.81137776\n",
            "Eval accuracy at epoch 4:  0.7784\n",
            "Train accuracy at epoch 5:  0.8182222\n",
            "Eval accuracy at epoch 5:  0.806\n",
            "Train accuracy at epoch 6:  0.84742224\n",
            "Eval accuracy at epoch 6:  0.8308\n",
            "Train accuracy at epoch 7:  0.88226664\n",
            "Eval accuracy at epoch 7:  0.862\n",
            "Train accuracy at epoch 8:  0.9045778\n",
            "Eval accuracy at epoch 8:  0.8732\n",
            "Train accuracy at epoch 9:  0.9200444\n",
            "Eval accuracy at epoch 9:  0.8848\n",
            "Train accuracy at epoch 10:  0.9351556\n",
            "Eval accuracy at epoch 10:  0.8952\n",
            "Train accuracy at epoch 11:  0.94773334\n",
            "Eval accuracy at epoch 11:  0.898\n",
            "Train accuracy at epoch 12:  0.9569333\n",
            "Eval accuracy at epoch 12:  0.9032\n",
            "Train accuracy at epoch 13:  0.962\n",
            "Eval accuracy at epoch 13:  0.9076\n",
            "Train accuracy at epoch 14:  0.9682222\n",
            "Eval accuracy at epoch 14:  0.9076\n",
            "Train accuracy at epoch 15:  0.97426665\n",
            "Eval accuracy at epoch 15:  0.9144\n",
            "Train accuracy at epoch 16:  0.97697777\n",
            "Eval accuracy at epoch 16:  0.9168\n",
            "Train accuracy at epoch 17:  0.98106664\n",
            "Eval accuracy at epoch 17:  0.9172\n",
            "Train accuracy at epoch 18:  0.9836\n",
            "Eval accuracy at epoch 18:  0.9208\n",
            "Train accuracy at epoch 19:  0.9849333\n",
            "Eval accuracy at epoch 19:  0.9248\n",
            "Train accuracy at epoch 20:  0.9875111\n",
            "Eval accuracy at epoch 20:  0.926\n",
            "Test accuracy: 0.8699191\n",
            "Test loss: 0.38014275\n",
            "Trial 4 precision: 0.8689\n",
            "Trial 4 recall: 0.8685\n",
            "Trial 4 F1 score: 0.8684\n",
            "Trial 4 mean training accuracy: 0.9033\n",
            "Trial 4 mean evaluation accuracy: 0.8576\n",
            "Trial 4 standard error of the mean for evaluation accuracies: 0.0183\n",
            "Trial 4 standard error of the mean for training accuracies: 0.0201\n"
          ]
        },
        {
          "output_type": "display_data",
          "data": {
            "text/plain": [
              "<Figure size 800x600 with 2 Axes>"
            ],
            "image/png": "[encoded data removed]"
          },
          "metadata": {}
        },
        {
          "output_type": "stream",
          "name": "stderr",
          "text": [
            "<ipython-input-8-c6a85015b91a>:50: UserWarning: `tf.nn.rnn_cell.BasicLSTMCell` is deprecated and will be removed in a future version. This class is equivalent as `tf.keras.layers.LSTMCell`, and will be replaced by that in Tensorflow 2.0.\n",
            "  self.rnn_cell = tf.compat.v1.nn.rnn_cell.BasicLSTMCell(cell_size)\n",
            "WARNING:tensorflow:<keras.layers.rnn.legacy_cells.BasicLSTMCell object at 0x7f953c03f640>: Note that this cell is not optimized for performance. Please use tf.compat.v1.keras.layers.CuDNNLSTM for better performance on GPU.\n"
          ]
        },
        {
          "output_type": "stream",
          "name": "stdout",
          "text": [
            "Run 5/5\n"
          ]
        },
        {
          "output_type": "stream",
          "name": "stderr",
          "text": [
            "/usr/local/lib/python3.9/dist-packages/keras/legacy_tf_layers/base.py:627: UserWarning: `layer.updates` will be removed in a future version. This property should not be used in TensorFlow 2.0, as `updates` are applied automatically.\n",
            "  self.updates, tf.compat.v1.GraphKeys.UPDATE_OPS\n"
          ]
        },
        {
          "output_type": "stream",
          "name": "stdout",
          "text": [
            "Train accuracy at epoch 1:  0.65253335\n",
            "Eval accuracy at epoch 1:  0.6208\n",
            "Train accuracy at epoch 2:  0.7497778\n",
            "Eval accuracy at epoch 2:  0.7012\n",
            "Train accuracy at epoch 3:  0.7841778\n",
            "Eval accuracy at epoch 3:  0.7344\n",
            "Train accuracy at epoch 4:  0.81724447\n",
            "Eval accuracy at epoch 4:  0.782\n",
            "Train accuracy at epoch 5:  0.7483111\n",
            "Eval accuracy at epoch 5:  0.7472\n",
            "Train accuracy at epoch 6:  0.8821333\n",
            "Eval accuracy at epoch 6:  0.8532\n",
            "Train accuracy at epoch 7:  0.8738222\n",
            "Eval accuracy at epoch 7:  0.8592\n",
            "Train accuracy at epoch 8:  0.9134222\n",
            "Eval accuracy at epoch 8:  0.8816\n",
            "Train accuracy at epoch 9:  0.9215556\n",
            "Eval accuracy at epoch 9:  0.8928\n",
            "Train accuracy at epoch 10:  0.9408\n",
            "Eval accuracy at epoch 10:  0.9\n",
            "Train accuracy at epoch 11:  0.9492\n",
            "Eval accuracy at epoch 11:  0.906\n",
            "Train accuracy at epoch 12:  0.95724446\n",
            "Eval accuracy at epoch 12:  0.9128\n",
            "Train accuracy at epoch 13:  0.96511114\n",
            "Eval accuracy at epoch 13:  0.9176\n",
            "Train accuracy at epoch 14:  0.9708889\n",
            "Eval accuracy at epoch 14:  0.916\n",
            "Train accuracy at epoch 15:  0.97528887\n",
            "Eval accuracy at epoch 15:  0.9248\n",
            "Train accuracy at epoch 16:  0.9788\n",
            "Eval accuracy at epoch 16:  0.9268\n",
            "Train accuracy at epoch 17:  0.9816889\n",
            "Eval accuracy at epoch 17:  0.924\n",
            "Train accuracy at epoch 18:  0.9845778\n",
            "Eval accuracy at epoch 18:  0.928\n",
            "Train accuracy at epoch 19:  0.98631114\n",
            "Eval accuracy at epoch 19:  0.93\n",
            "Train accuracy at epoch 20:  0.98888886\n",
            "Eval accuracy at epoch 20:  0.9292\n",
            "Test accuracy: 0.8718262\n",
            "Test loss: 0.36864313\n",
            "Trial 5 precision: 0.8716\n",
            "Trial 5 recall: 0.8714\n",
            "Trial 5 F1 score: 0.8713\n",
            "Trial 5 mean training accuracy: 0.9011\n",
            "Trial 5 mean evaluation accuracy: 0.8594\n",
            "Trial 5 standard error of the mean for evaluation accuracies: 0.0204\n",
            "Trial 5 standard error of the mean for training accuracies: 0.0221\n"
          ]
        },
        {
          "output_type": "display_data",
          "data": {
            "text/plain": [
              "<Figure size 800x600 with 2 Axes>"
            ],
            "image/png": "[encoded data removed]"
          },
          "metadata": {}
        },
        {
          "output_type": "display_data",
          "data": {
            "text/plain": [
              "<Figure size 800x600 with 2 Axes>"
            ],
            "image/png": "[encoded data removed]"
          },
          "metadata": {}
        },
        {
          "output_type": "stream",
          "name": "stdout",
          "text": [
            "All evaluation accuracies: [0.642, 0.696, 0.7196, 0.7392, 0.7744, 0.8092, 0.8284, 0.852, 0.8852, 0.8868, 0.8988, 0.8992, 0.9104, 0.9092, 0.9168, 0.92, 0.9232, 0.9208, 0.9232, 0.924, 0.5664, 0.702, 0.7168, 0.74, 0.772, 0.8264, 0.848, 0.8636, 0.8876, 0.8928, 0.8952, 0.9044, 0.9108, 0.914, 0.9144, 0.9144, 0.9172, 0.9192, 0.9228, 0.9172, 0.606, 0.6588, 0.7492, 0.7716, 0.8164, 0.8288, 0.8532, 0.8816, 0.8752, 0.9004, 0.9036, 0.9068, 0.9092, 0.9152, 0.9184, 0.9212, 0.9204, 0.9252, 0.924, 0.9192, 0.6432, 0.7124, 0.7304, 0.7784, 0.806, 0.8308, 0.862, 0.8732, 0.8848, 0.8952, 0.898, 0.9032, 0.9076, 0.9076, 0.9144, 0.9168, 0.9172, 0.9208, 0.9248, 0.926, 0.6208, 0.7012, 0.7344, 0.782, 0.7472, 0.8532, 0.8592, 0.8816, 0.8928, 0.9, 0.906, 0.9128, 0.9176, 0.916, 0.9248, 0.9268, 0.924, 0.928, 0.93, 0.9292]\n",
            "All training accuracies: [0.68715554, 0.7413778, 0.7648889, 0.78995556, 0.8193778, 0.82555556, 0.85595554, 0.8738667, 0.912, 0.9135111, 0.9372889, 0.9436, 0.95497775, 0.96173334, 0.9677333, 0.97297776, 0.9764, 0.98053336, 0.9836444, 0.98586667, 0.5920445, 0.74275553, 0.7684889, 0.7892889, 0.7859111, 0.8407111, 0.8746667, 0.8895111, 0.9117333, 0.9300445, 0.9395555, 0.95408887, 0.9614222, 0.96675557, 0.9718222, 0.9767111, 0.9809333, 0.9838667, 0.98568887, 0.9871111, 0.6265333, 0.6905778, 0.78871113, 0.8130222, 0.8335556, 0.8452889, 0.8782222, 0.9083111, 0.9177778, 0.93715554, 0.9493333, 0.9548889, 0.9647111, 0.9717778, 0.9756889, 0.97875553, 0.98373336, 0.98573333, 0.98764443, 0.9894222, 0.6906667, 0.7536, 0.77893335, 0.81137776, 0.8182222, 0.84742224, 0.88226664, 0.9045778, 0.9200444, 0.9351556, 0.94773334, 0.9569333, 0.962, 0.9682222, 0.97426665, 0.97697777, 0.98106664, 0.9836, 0.9849333, 0.9875111, 0.65253335, 0.7497778, 0.7841778, 0.81724447, 0.7483111, 0.8821333, 0.8738222, 0.9134222, 0.9215556, 0.9408, 0.9492, 0.95724446, 0.96511114, 0.9708889, 0.97528887, 0.9788, 0.9816889, 0.9845778, 0.98631114, 0.98888886]\n"
          ]
        }
      ]
    },
    {
      "cell_type": "markdown",
      "metadata": {
        "id": "7HloeEKJP7Ub"
      },
      "source": [
        "### Performance comparison\n",
        "---"
      ]
    },
    {
      "cell_type": "code",
      "execution_count": 17,
      "metadata": {
        "id": "LW-exJpxP7Ub",
        "colab": {
          "base_uri": "https://localhost:8080/",
          "height": 368
        },
        "outputId": "bc2dc267-a492-45b6-a684-8d61ecb4d2b7"
      },
      "outputs": [
        {
          "output_type": "display_data",
          "data": {
            "text/plain": [
              "<Figure size 1000x400 with 2 Axes>"
            ],
            "image/png": "[encoded data removed]"
          },
          "metadata": {}
        }
      ],
      "source": [
        "f, (ax1, ax2) = plt.subplots(1, 2, sharey=True, figsize=(10, 4))\n",
        "ax1.plot(range(len(lstm_model.history['train_acc'])), lstm_model.history['train_acc'], \n",
        "         label='LSTM Train Accuracy');\n",
        "ax1.plot(range(len(lstm_model.history['eval_acc'])), lstm_model.history['eval_acc'], \n",
        "         label='LSTM Val Accuracy');\n",
        "ax2.plot(range(len(rnn_model.history['train_acc'])), rnn_model.history['train_acc'],\n",
        "         label='RNN Train Accuracy');\n",
        "ax2.plot(range(len(rnn_model.history['eval_acc'])), rnn_model.history['eval_acc'],\n",
        "         label='RNN Val Accuracy');\n",
        "ax1.legend();\n",
        "ax2.legend();\n",
        "\n",
        "\n",
        "### Both Model overfits -- "
      ]
    },
    {
      "cell_type": "markdown",
      "metadata": {
        "id": "XrMkRP-0P7Ub"
      },
      "source": [
        "## Test network on new samples\n",
        "---\n",
        "\n"
      ]
    },
    {
      "cell_type": "code",
      "execution_count": null,
      "metadata": {
        "id": "nXSOpyz0P7Uc"
      },
      "outputs": [],
      "source": [
        "###############################################################\n",
        "# Import/download necessary libraries to process new sequences\n",
        "###############################################################\n",
        "import nltk\n",
        "try:\n",
        "    nltk.data.find('tokenizers/punkt')\n",
        "except LookupError:\n",
        "    nltk.download('punkt')\n",
        "from nltk.tokenize import word_tokenize\n",
        "import re"
      ]
    },
    {
      "cell_type": "code",
      "execution_count": null,
      "metadata": {
        "id": "5zDt0vVlP7Uc"
      },
      "outputs": [],
      "source": [
        "def process_new_review(review):\n",
        "    '''Function to process a new review.\n",
        "       Args:\n",
        "           review: original text review, string.\n",
        "       Returns:\n",
        "           indexed_review: sequence of integers, words correspondence \n",
        "                           from word2idx.\n",
        "           seq_length: the length of the review.\n",
        "    '''\n",
        "    indexed_review = re.sub(r'<[^>]+>', ' ', review)\n",
        "    indexed_review = word_tokenize(indexed_review)\n",
        "    indexed_review = [word2idx[word] if word in list(word2idx.keys()) else \n",
        "                      word2idx['Unknown_token'] for word in indexed_review]\n",
        "    indexed_review = indexed_review + [word2idx['End_token']]\n",
        "    seq_length = len(indexed_review)    \n",
        "    return indexed_review, seq_length"
      ]
    },
    {
      "cell_type": "code",
      "execution_count": null,
      "metadata": {
        "id": "8ZmRTbHCP7Uc"
      },
      "outputs": [],
      "source": [
        "sent_dict = {0: 'negative', 1: 'positive'}"
      ]
    },
    {
      "cell_type": "code",
      "execution_count": null,
      "metadata": {
        "id": "lo8W4xfdP7Uc"
      },
      "outputs": [],
      "source": [
        "review_score_10 = \"I think Bad Apples is a great time and I recommend! I enjoyed the opening, which gave way for the rest of the movie to occur. The main couple was very likable and I believed all of their interactions. They had great onscreen chemistry and made me laugh quite a few times! Keeping the girls in the masks but seeing them in action was something I loved. It kept a mystery to them throughout. I think the dialogue was great. The kills were fun. And the special surprise gore effect at the end was AWESOME!! I won't spoil that part ;) I also enjoyed how the movie wrapped up. It gave a very urban legends type feel of \\\"did you ever hear the story...\\\". Plus is leaves the door open for another film which I wouldn't mind at all. Long story short, I think if you take the film for what it is; a fun little horror flick, then you won't be disappointed! HaPpY eArLy HaLLoWeEn!\""
      ]
    },
    {
      "cell_type": "code",
      "execution_count": null,
      "metadata": {
        "id": "jL2PWrzPP7Uc"
      },
      "outputs": [],
      "source": [
        "review_score_4 = \"A young couple comes to a small town, where the husband get a job working in a hospital. The wife which you instantly hate or dislike works home, at the same time a horrible murders takes place in this small town by two masked killers. Bad Apples is just your tipical B-horror movie with average acting (I give them that. Altough you may get the idea that some of the actors are crazy-convervative Christians), but the script is just bad, and that's what destroys the film.\""
      ]
    },
    {
      "cell_type": "code",
      "execution_count": null,
      "metadata": {
        "id": "dGJG7F6kP7Uc"
      },
      "outputs": [],
      "source": [
        "review_score_1 = \"When you first start watching this movie, you can tell its going to be a painful ride. the audio is poor...the attacks by the \\\"girls\\\" are like going back in time, to watching the old rocky films, were blows never touched. the editing is poor with it aswell, example the actress in is the bath when her husband comes home, clearly you see her wearing a flesh coloured bra in the bath. no hints or spoilers, just wait till you find it in a bargain basket of cheap dvds in a couple of weeks\""
      ]
    },
    {
      "cell_type": "code",
      "execution_count": null,
      "metadata": {
        "id": "M-hrh4LCP7Ud"
      },
      "outputs": [],
      "source": [
        "new_reviews = [review_score_10, review_score_4, review_score_1]\n",
        "scores = [10, 4, 1]"
      ]
    },
    {
      "cell_type": "code",
      "execution_count": null,
      "metadata": {
        "id": "OvVuzgTwP7Ud"
      },
      "outputs": [],
      "source": [
        "## With LSTM\n",
        "\n",
        "with tf.device(device):\n",
        "    for original_review, score in zip(new_reviews, scores):\n",
        "        indexed_review, seq_length = process_new_review(original_review)\n",
        "        indexed_review = tf.reshape(tf.constant(indexed_review), (1,-1))\n",
        "        seq_length = tf.reshape(tf.constant(seq_length), (1,))\n",
        "        logits = lstm_model.predict(indexed_review, seq_length, False)\n",
        "        logits = tf.nn.softmax(logits)\n",
        "        pred = tf.argmax(logits, axis=1).numpy()[0]\n",
        "        print('The sentiment for the review with score %d was found to be %s'\n",
        "              %(score, sent_dict[pred]))"
      ]
    },
    {
      "cell_type": "code",
      "source": [
        "## With RNN\n",
        "\n",
        "with tf.device(device):\n",
        "    for original_review, score in zip(new_reviews, scores):\n",
        "        indexed_review, seq_length = process_new_review(original_review)\n",
        "        indexed_review = tf.reshape(tf.constant(indexed_review), (1,-1))\n",
        "        seq_length = tf.reshape(tf.constant(seq_length), (1,))\n",
        "        logits = rnn_model.predict(indexed_review, seq_length, False)\n",
        "        logits = tf.nn.softmax(logits)\n",
        "        pred = tf.argmax(logits, axis=1).numpy()[0]\n",
        "        print('The sentiment for the review with score %d was found to be %s'\n",
        "              %(score, sent_dict[pred]))"
      ],
      "metadata": {
        "id": "XrUvYrdpt_SI"
      },
      "execution_count": null,
      "outputs": []
    }
  ],
  "metadata": {
    "accelerator": "GPU",
    "colab": {
      "provenance": [],
      "machine_shape": "hm"
    },
    "kernelspec": {
      "display_name": "Python 3",
      "language": "python",
      "name": "python3"
    },
    "language_info": {
      "codemirror_mode": {
        "name": "ipython",
        "version": 3
      },
      "file_extension": ".py",
      "mimetype": "text/x-python",
      "name": "python",
      "nbconvert_exporter": "python",
      "pygments_lexer": "ipython3",
      "version": "3.6.4"
    },
    "gpuClass": "premium"
  },
  "nbformat": 4,
  "nbformat_minor": 0
}